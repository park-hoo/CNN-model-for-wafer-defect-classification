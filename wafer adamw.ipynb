{
 "cells": [
  {
   "attachments": {},
   "cell_type": "markdown",
   "id": "ad6fa978",
   "metadata": {
    "papermill": {
     "duration": 0.006128,
     "end_time": "2023-02-04T19:48:10.321028",
     "exception": false,
     "start_time": "2023-02-04T19:48:10.314900",
     "status": "completed"
    },
    "tags": []
   },
   "source": [
    "# Image Classification using Keras"
   ]
  },
  {
   "cell_type": "code",
   "execution_count": 1,
   "id": "2b487355",
   "metadata": {},
   "outputs": [],
   "source": [
    "import os; os.environ[\"TF_KERAS\"]='1'"
   ]
  },
  {
   "cell_type": "code",
   "execution_count": 2,
   "id": "2ea679e0",
   "metadata": {
    "execution": {
     "iopub.execute_input": "2023-02-04T19:48:10.377534Z",
     "iopub.status.busy": "2023-02-04T19:48:10.377130Z",
     "iopub.status.idle": "2023-02-04T19:48:15.723859Z",
     "shell.execute_reply": "2023-02-04T19:48:15.722865Z"
    },
    "papermill": {
     "duration": 5.359846,
     "end_time": "2023-02-04T19:48:15.726491",
     "exception": false,
     "start_time": "2023-02-04T19:48:10.366645",
     "status": "completed"
    },
    "tags": []
   },
   "outputs": [
    {
     "name": "stdout",
     "output_type": "stream",
     "text": [
      "WARNING:tensorflow:From c:\\Users\\USER\\.conda\\envs\\adamw3.7\\lib\\site-packages\\tensorflow\\python\\compat\\v2_compat.py:101: disable_resource_variables (from tensorflow.python.ops.variable_scope) is deprecated and will be removed in a future version.\n",
      "Instructions for updating:\n",
      "non-resource variables are not supported in the long term\n"
     ]
    }
   ],
   "source": [
    "\n",
    "import numpy as np\n",
    "import matplotlib.pyplot as plt\n",
    "from keras.preprocessing.image import ImageDataGenerator\n",
    "import cv2\n",
    "import tensorflow.compat.v1 as tf\n",
    "import os\n",
    "os.environ['CUDA_VISIBLE_DEVICES'] = '0' ## 초기화할 GPU number\n",
    "tf.disable_v2_behavior()\n",
    "import warnings\n",
    "warnings.filterwarnings('ignore')\n",
    "from keras.models import load_model\n",
    "from keras.preprocessing import image\n",
    "from tensorflow.keras.models import Sequential\n",
    "from tensorflow.keras.layers import Conv2D, MaxPooling2D, Flatten, Dense, Dropout, BatchNormalization\n",
    "from tensorflow.keras.optimizers import Adam\n",
    "from PIL import Image\n",
    "import pandas as pd\n",
    "from tensorflow_addons.optimizers import AdamW\n",
    "from tensorflow.keras.regularizers import l2\n",
    "import warnings\n",
    "warnings.filterwarnings('ignore')"
   ]
  },
  {
   "cell_type": "code",
   "execution_count": 3,
   "id": "6cd3a22d",
   "metadata": {},
   "outputs": [],
   "source": [
    "# print(keras.__version__)"
   ]
  },
  {
   "cell_type": "code",
   "execution_count": 4,
   "id": "eec92640",
   "metadata": {
    "execution": {
     "iopub.execute_input": "2023-02-04T19:48:15.738987Z",
     "iopub.status.busy": "2023-02-04T19:48:15.738361Z",
     "iopub.status.idle": "2023-02-04T19:48:15.743367Z",
     "shell.execute_reply": "2023-02-04T19:48:15.742465Z"
    },
    "papermill": {
     "duration": 0.013548,
     "end_time": "2023-02-04T19:48:15.745407",
     "exception": false,
     "start_time": "2023-02-04T19:48:15.731859",
     "status": "completed"
    },
    "tags": []
   },
   "outputs": [],
   "source": [
    "image_gen = ImageDataGenerator(rotation_range=25,\n",
    "                              width_shift_range=0.1,\n",
    "                              height_shift_range=0.1,rescale=1/255,shear_range=0.2,\n",
    "                              zoom_range=0.2,horizontal_flip=True,fill_mode='nearest')"
   ]
  },
  {
   "cell_type": "code",
   "execution_count": 5,
   "id": "8b7bc8f4",
   "metadata": {
    "execution": {
     "iopub.execute_input": "2023-02-04T19:48:15.756404Z",
     "iopub.status.busy": "2023-02-04T19:48:15.756113Z",
     "iopub.status.idle": "2023-02-04T19:48:15.760200Z",
     "shell.execute_reply": "2023-02-04T19:48:15.759277Z"
    },
    "papermill": {
     "duration": 0.011627,
     "end_time": "2023-02-04T19:48:15.762114",
     "exception": false,
     "start_time": "2023-02-04T19:48:15.750487",
     "status": "completed"
    },
    "tags": []
   },
   "outputs": [],
   "source": [
    "path = \"wafer/dataset/class/abnormal_form_donut/abnormal_form_donut_2.bmp\""
   ]
  },
  {
   "cell_type": "code",
   "execution_count": 6,
   "id": "b0fb57de",
   "metadata": {
    "execution": {
     "iopub.execute_input": "2023-02-04T19:48:15.772928Z",
     "iopub.status.busy": "2023-02-04T19:48:15.772646Z",
     "iopub.status.idle": "2023-02-04T19:48:15.777391Z",
     "shell.execute_reply": "2023-02-04T19:48:15.776459Z"
    },
    "papermill": {
     "duration": 0.012336,
     "end_time": "2023-02-04T19:48:15.779257",
     "exception": false,
     "start_time": "2023-02-04T19:48:15.766921",
     "status": "completed"
    },
    "tags": []
   },
   "outputs": [],
   "source": [
    "def display_img(path):\n",
    "    plt.figure(figsize=(2,2))\n",
    "    read = cv2.imread(path)\n",
    "    # read_cvt = cv2.cvtColor(read ,cv2.COLOR_BGR2RGB)\n",
    "    # read_cvt = cv2.cvtColor(read)\n",
    "    print(read.shape)\n",
    "    plt.imshow(read)\n",
    "    plt.show()"
   ]
  },
  {
   "cell_type": "code",
   "execution_count": 7,
   "id": "0f0af0ab",
   "metadata": {
    "execution": {
     "iopub.execute_input": "2023-02-04T19:48:15.791005Z",
     "iopub.status.busy": "2023-02-04T19:48:15.789647Z",
     "iopub.status.idle": "2023-02-04T19:48:16.004078Z",
     "shell.execute_reply": "2023-02-04T19:48:16.003005Z"
    },
    "papermill": {
     "duration": 0.222264,
     "end_time": "2023-02-04T19:48:16.006316",
     "exception": false,
     "start_time": "2023-02-04T19:48:15.784052",
     "status": "completed"
    },
    "tags": []
   },
   "outputs": [
    {
     "name": "stdout",
     "output_type": "stream",
     "text": [
      "(100, 100, 3)\n"
     ]
    },
    {
     "data": {
      "image/png": "[encoded data removed]",
      "text/plain": [
       "<Figure size 200x200 with 1 Axes>"
      ]
     },
     "metadata": {},
     "output_type": "display_data"
    }
   ],
   "source": [
    "display_img(path)"
   ]
  },
  {
   "cell_type": "code",
   "execution_count": 8,
   "id": "d6aec05c",
   "metadata": {
    "execution": {
     "iopub.execute_input": "2023-02-04T19:48:16.019320Z",
     "iopub.status.busy": "2023-02-04T19:48:16.017922Z",
     "iopub.status.idle": "2023-02-04T19:48:32.674139Z",
     "shell.execute_reply": "2023-02-04T19:48:32.672997Z"
    },
    "papermill": {
     "duration": 16.66577,
     "end_time": "2023-02-04T19:48:32.677605",
     "exception": false,
     "start_time": "2023-02-04T19:48:16.011835",
     "status": "completed"
    },
    "tags": []
   },
   "outputs": [
    {
     "name": "stdout",
     "output_type": "stream",
     "text": [
      "Found 26370 images belonging to 8 classes.\n"
     ]
    },
    {
     "data": {
      "text/plain": [
       "<keras.preprocessing.image.DirectoryIterator at 0x1c99f8c9748>"
      ]
     },
     "execution_count": 8,
     "metadata": {},
     "output_type": "execute_result"
    }
   ],
   "source": [
    "image_gen.flow_from_directory(\"wafer/dataset/class\")"
   ]
  },
  {
   "cell_type": "code",
   "execution_count": 9,
   "id": "79c953e5",
   "metadata": {
    "execution": {
     "iopub.execute_input": "2023-02-04T19:48:32.690898Z",
     "iopub.status.busy": "2023-02-04T19:48:32.689893Z",
     "iopub.status.idle": "2023-02-04T19:48:35.701559Z",
     "shell.execute_reply": "2023-02-04T19:48:35.700573Z"
    },
    "papermill": {
     "duration": 3.020123,
     "end_time": "2023-02-04T19:48:35.703644",
     "exception": false,
     "start_time": "2023-02-04T19:48:32.683521",
     "status": "completed"
    },
    "tags": []
   },
   "outputs": [],
   "source": [
    "model = Sequential()"
   ]
  },
  {
   "cell_type": "code",
   "execution_count": 10,
   "id": "04d5a682",
   "metadata": {
    "execution": {
     "iopub.execute_input": "2023-02-04T19:48:35.717575Z",
     "iopub.status.busy": "2023-02-04T19:48:35.717240Z",
     "iopub.status.idle": "2023-02-04T19:48:36.029989Z",
     "shell.execute_reply": "2023-02-04T19:48:36.029027Z"
    },
    "papermill": {
     "duration": 0.322952,
     "end_time": "2023-02-04T19:48:36.032564",
     "exception": false,
     "start_time": "2023-02-04T19:48:35.709612",
     "status": "completed"
    },
    "tags": []
   },
   "outputs": [
    {
     "name": "stdout",
     "output_type": "stream",
     "text": [
      "WARNING:tensorflow:From c:\\Users\\USER\\.conda\\envs\\adamw3.7\\lib\\site-packages\\keras\\layers\\normalization\\batch_normalization.py:520: _colocate_with (from tensorflow.python.framework.ops) is deprecated and will be removed in a future version.\n",
      "Instructions for updating:\n",
      "Colocations handled automatically by placer.\n"
     ]
    }
   ],
   "source": [
    "# Convolutional Layer 1\n",
    "model.add(Conv2D(filters=64, kernel_size=(3,3), activation='relu', input_shape=(100, 100, 1)))\n",
    "model.add(BatchNormalization())\n",
    "model.add(MaxPooling2D(pool_size=(2,2)))\n",
    "\n",
    "# Convolutional Layer 2\n",
    "model.add(Conv2D(filters=128, kernel_size=(3,3), activation='relu', kernel_regularizer=l2(0.01)))\n",
    "model.add(BatchNormalization())\n",
    "model.add(MaxPooling2D(pool_size=(2,2)))\n",
    "\n",
    "# Convolutional Layer 3\n",
    "model.add(Conv2D(filters=256, kernel_size=(3,3), activation='relu', kernel_regularizer=l2(0.01)))\n",
    "model.add(BatchNormalization())\n",
    "model.add(MaxPooling2D(pool_size=(2,2)))\n",
    "\n",
    "# Convolutional Layer 4\n",
    "model.add(Conv2D(filters=512, kernel_size=(3,3), activation='relu', kernel_regularizer=l2(0.01)))\n",
    "model.add(BatchNormalization())\n",
    "model.add(MaxPooling2D(pool_size=(2,2)))\n",
    "\n",
    "# Fully Connected Layers\n",
    "model.add(Flatten())\n",
    "\n",
    "model.add(Dense(1024, activation='relu', kernel_regularizer=l2(0.01)))\n",
    "model.add(BatchNormalization())\n",
    "model.add(Dropout(0.5))\n",
    "\n",
    "model.add(Dense(512, activation='relu', kernel_regularizer=l2(0.01)))\n",
    "model.add(BatchNormalization())\n",
    "model.add(Dropout(0.3))\n",
    "\n",
    "model.add(Dense(8, activation='softmax'))\n",
    "\n",
    "# AdamW 옵티마이저 설정\n",
    "optimizer = AdamW(learning_rate=0.001, weight_decay=1e-4)\n",
    "\n",
    "model.compile(loss='categorical_crossentropy', optimizer=optimizer, metrics=['accuracy'])"
   ]
  },
  {
   "cell_type": "code",
   "execution_count": 11,
   "id": "07ae00ab",
   "metadata": {
    "execution": {
     "iopub.execute_input": "2023-02-04T19:48:36.046394Z",
     "iopub.status.busy": "2023-02-04T19:48:36.044914Z",
     "iopub.status.idle": "2023-02-04T19:48:36.054480Z",
     "shell.execute_reply": "2023-02-04T19:48:36.053373Z"
    },
    "papermill": {
     "duration": 0.018317,
     "end_time": "2023-02-04T19:48:36.056584",
     "exception": false,
     "start_time": "2023-02-04T19:48:36.038267",
     "status": "completed"
    },
    "tags": []
   },
   "outputs": [
    {
     "name": "stdout",
     "output_type": "stream",
     "text": [
      "Model: \"sequential\"\n",
      "_________________________________________________________________\n",
      "Layer (type)                 Output Shape              Param #   \n",
      "=================================================================\n",
      "conv2d (Conv2D)              (None, 98, 98, 64)        640       \n",
      "_________________________________________________________________\n",
      "batch_normalization (BatchNo (None, 98, 98, 64)        256       \n",
      "_________________________________________________________________\n",
      "max_pooling2d (MaxPooling2D) (None, 49, 49, 64)        0         \n",
      "_________________________________________________________________\n",
      "conv2d_1 (Conv2D)            (None, 47, 47, 128)       73856     \n",
      "_________________________________________________________________\n",
      "batch_normalization_1 (Batch (None, 47, 47, 128)       512       \n",
      "_________________________________________________________________\n",
      "max_pooling2d_1 (MaxPooling2 (None, 23, 23, 128)       0         \n",
      "_________________________________________________________________\n",
      "conv2d_2 (Conv2D)            (None, 21, 21, 256)       295168    \n",
      "_________________________________________________________________\n",
      "batch_normalization_2 (Batch (None, 21, 21, 256)       1024      \n",
      "_________________________________________________________________\n",
      "max_pooling2d_2 (MaxPooling2 (None, 10, 10, 256)       0         \n",
      "_________________________________________________________________\n",
      "conv2d_3 (Conv2D)            (None, 8, 8, 512)         1180160   \n",
      "_________________________________________________________________\n",
      "batch_normalization_3 (Batch (None, 8, 8, 512)         2048      \n",
      "_________________________________________________________________\n",
      "max_pooling2d_3 (MaxPooling2 (None, 4, 4, 512)         0         \n",
      "_________________________________________________________________\n",
      "flatten (Flatten)            (None, 8192)              0         \n",
      "_________________________________________________________________\n",
      "dense (Dense)                (None, 1024)              8389632   \n",
      "_________________________________________________________________\n",
      "batch_normalization_4 (Batch (None, 1024)              4096      \n",
      "_________________________________________________________________\n",
      "dropout (Dropout)            (None, 1024)              0         \n",
      "_________________________________________________________________\n",
      "dense_1 (Dense)              (None, 512)               524800    \n",
      "_________________________________________________________________\n",
      "batch_normalization_5 (Batch (None, 512)               2048      \n",
      "_________________________________________________________________\n",
      "dropout_1 (Dropout)          (None, 512)               0         \n",
      "_________________________________________________________________\n",
      "dense_2 (Dense)              (None, 8)                 4104      \n",
      "=================================================================\n",
      "Total params: 10,478,344\n",
      "Trainable params: 10,473,352\n",
      "Non-trainable params: 4,992\n",
      "_________________________________________________________________\n"
     ]
    }
   ],
   "source": [
    "model.summary()"
   ]
  },
  {
   "cell_type": "code",
   "execution_count": 12,
   "id": "38ee2e4a",
   "metadata": {
    "execution": {
     "iopub.execute_input": "2023-02-04T19:48:36.068850Z",
     "iopub.status.busy": "2023-02-04T19:48:36.068578Z",
     "iopub.status.idle": "2023-02-04T19:48:39.575311Z",
     "shell.execute_reply": "2023-02-04T19:48:39.574132Z"
    },
    "papermill": {
     "duration": 3.515586,
     "end_time": "2023-02-04T19:48:39.577717",
     "exception": false,
     "start_time": "2023-02-04T19:48:36.062131",
     "status": "completed"
    },
    "tags": []
   },
   "outputs": [
    {
     "name": "stdout",
     "output_type": "stream",
     "text": [
      "Found 26370 images belonging to 8 classes.\n"
     ]
    }
   ],
   "source": [
    "training_image =image_gen.flow_from_directory(\"wafer/dataset/class\" , \n",
    "                                              target_size=(100,100),batch_size=25,\n",
    "                                              color_mode='grayscale')"
   ]
  },
  {
   "cell_type": "code",
   "execution_count": 13,
   "id": "683d771d",
   "metadata": {
    "execution": {
     "iopub.execute_input": "2023-02-04T19:48:39.591468Z",
     "iopub.status.busy": "2023-02-04T19:48:39.590534Z",
     "iopub.status.idle": "2023-02-04T19:48:40.117149Z",
     "shell.execute_reply": "2023-02-04T19:48:40.116089Z"
    },
    "papermill": {
     "duration": 0.535494,
     "end_time": "2023-02-04T19:48:40.119265",
     "exception": false,
     "start_time": "2023-02-04T19:48:39.583771",
     "status": "completed"
    },
    "tags": []
   },
   "outputs": [
    {
     "name": "stdout",
     "output_type": "stream",
     "text": [
      "Found 1321 images belonging to 8 classes.\n"
     ]
    }
   ],
   "source": [
    "testing_image =image_gen.flow_from_directory(\"wafer/dataset/consistency\" , \n",
    "                                              target_size=(100,100),batch_size=25,\n",
    "                                              color_mode='grayscale')"
   ]
  },
  {
   "cell_type": "code",
   "execution_count": 14,
   "id": "2091e6c4",
   "metadata": {
    "execution": {
     "iopub.execute_input": "2023-02-04T19:48:40.133294Z",
     "iopub.status.busy": "2023-02-04T19:48:40.131840Z",
     "iopub.status.idle": "2023-02-04T22:01:47.273144Z",
     "shell.execute_reply": "2023-02-04T22:01:47.271449Z"
    },
    "papermill": {
     "duration": 7987.151503,
     "end_time": "2023-02-04T22:01:47.276755",
     "exception": false,
     "start_time": "2023-02-04T19:48:40.125252",
     "status": "completed"
    },
    "tags": []
   },
   "outputs": [
    {
     "name": "stdout",
     "output_type": "stream",
     "text": [
      "Epoch 1/100\n",
      "824/824 [==============================] - 35s 34ms/step - batch: 411.5000 - size: 24.9939 - loss: 7.5185 - acc: 0.6949 - val_loss: 4.8512 - val_acc: 0.3377\n",
      "Epoch 2/100\n",
      "824/824 [==============================] - 29s 35ms/step - batch: 411.5000 - size: 24.9939 - loss: 2.6189 - acc: 0.8084 - val_loss: 5.9238 - val_acc: 0.3015\n",
      "Epoch 3/100\n",
      "824/824 [==============================] - 27s 33ms/step - batch: 411.5000 - size: 25.0000 - loss: 2.2741 - acc: 0.8344 - val_loss: 4.6593 - val_acc: 0.4292\n",
      "Epoch 4/100\n",
      "824/824 [==============================] - 29s 36ms/step - batch: 411.5000 - size: 24.9939 - loss: 1.8985 - acc: 0.8480 - val_loss: 3.4285 - val_acc: 0.3312\n",
      "Epoch 5/100\n",
      "824/824 [==============================] - 31s 38ms/step - batch: 411.5000 - size: 24.9939 - loss: 1.5525 - acc: 0.8656 - val_loss: 2.9407 - val_acc: 0.4425\n",
      "Epoch 6/100\n",
      "824/824 [==============================] - 31s 38ms/step - batch: 411.5000 - size: 25.0000 - loss: 1.2416 - acc: 0.8777 - val_loss: 4.8269 - val_acc: 0.2013\n",
      "Epoch 7/100\n",
      "824/824 [==============================] - 31s 38ms/step - batch: 411.5000 - size: 24.9879 - loss: 1.0630 - acc: 0.8870 - val_loss: 2.3492 - val_acc: 0.4113\n",
      "Epoch 8/100\n",
      "824/824 [==============================] - 32s 39ms/step - batch: 411.5000 - size: 25.0000 - loss: 0.9684 - acc: 0.8947 - val_loss: 2.2873 - val_acc: 0.5570\n",
      "Epoch 9/100\n",
      "824/824 [==============================] - 32s 39ms/step - batch: 411.5000 - size: 24.9939 - loss: 0.9342 - acc: 0.9007 - val_loss: 1.4990 - val_acc: 0.6907\n",
      "Epoch 10/100\n",
      "824/824 [==============================] - 31s 38ms/step - batch: 411.5000 - size: 24.9939 - loss: 0.8618 - acc: 0.9031 - val_loss: 1.4394 - val_acc: 0.6505\n",
      "Epoch 11/100\n",
      "824/824 [==============================] - 31s 38ms/step - batch: 411.5000 - size: 25.0000 - loss: 0.8196 - acc: 0.9076 - val_loss: 1.5769 - val_acc: 0.6910\n",
      "Epoch 12/100\n",
      "824/824 [==============================] - 31s 38ms/step - batch: 411.5000 - size: 24.9939 - loss: 0.7815 - acc: 0.9116 - val_loss: 3.4529 - val_acc: 0.3207\n",
      "Epoch 13/100\n",
      "824/824 [==============================] - 31s 38ms/step - batch: 411.5000 - size: 24.9939 - loss: 0.7333 - acc: 0.9139 - val_loss: 3.1605 - val_acc: 0.2803\n",
      "Epoch 14/100\n",
      "824/824 [==============================] - 31s 37ms/step - batch: 411.5000 - size: 24.9939 - loss: 0.7450 - acc: 0.9132 - val_loss: 5.2229 - val_acc: 0.2357\n",
      "Epoch 15/100\n",
      "824/824 [==============================] - 33s 40ms/step - batch: 411.5000 - size: 24.9939 - loss: 0.6920 - acc: 0.9139 - val_loss: 1.6759 - val_acc: 0.6090\n",
      "Epoch 16/100\n",
      "824/824 [==============================] - 34s 42ms/step - batch: 411.5000 - size: 24.9939 - loss: 0.6483 - acc: 0.9178 - val_loss: 0.8706 - val_acc: 0.7944\n",
      "Epoch 17/100\n",
      "824/824 [==============================] - 35s 42ms/step - batch: 411.5000 - size: 24.9939 - loss: 0.6083 - acc: 0.9193 - val_loss: 1.8129 - val_acc: 0.6728\n",
      "Epoch 18/100\n",
      "824/824 [==============================] - 35s 42ms/step - batch: 411.5000 - size: 25.0000 - loss: 0.5773 - acc: 0.9225 - val_loss: 1.7165 - val_acc: 0.6143\n",
      "Epoch 19/100\n",
      "824/824 [==============================] - 35s 42ms/step - batch: 411.5000 - size: 24.9939 - loss: 0.5654 - acc: 0.9244 - val_loss: 1.3939 - val_acc: 0.7252\n",
      "Epoch 20/100\n",
      "824/824 [==============================] - 35s 42ms/step - batch: 411.5000 - size: 24.9939 - loss: 0.5435 - acc: 0.9265 - val_loss: 1.2208 - val_acc: 0.6755\n",
      "Epoch 21/100\n",
      "824/824 [==============================] - 35s 42ms/step - batch: 411.5000 - size: 24.9939 - loss: 0.5373 - acc: 0.9241 - val_loss: 1.1135 - val_acc: 0.7687\n",
      "Epoch 22/100\n",
      "824/824 [==============================] - 34s 42ms/step - batch: 411.5000 - size: 25.0000 - loss: 0.5196 - acc: 0.9253 - val_loss: 1.1065 - val_acc: 0.7337\n",
      "Epoch 23/100\n",
      "824/824 [==============================] - 34s 42ms/step - batch: 411.5000 - size: 24.9939 - loss: 0.5173 - acc: 0.9257 - val_loss: 1.4586 - val_acc: 0.6600\n",
      "Epoch 24/100\n",
      "824/824 [==============================] - 35s 42ms/step - batch: 411.5000 - size: 24.9939 - loss: 0.5110 - acc: 0.9244 - val_loss: 1.8544 - val_acc: 0.6637\n",
      "Epoch 25/100\n",
      "824/824 [==============================] - 35s 42ms/step - batch: 411.5000 - size: 24.9939 - loss: 0.5116 - acc: 0.9250 - val_loss: 1.6715 - val_acc: 0.5945\n",
      "Epoch 26/100\n",
      "824/824 [==============================] - 35s 42ms/step - batch: 411.5000 - size: 25.0000 - loss: 0.4877 - acc: 0.9270 - val_loss: 4.5001 - val_acc: 0.2791\n",
      "Epoch 27/100\n",
      "824/824 [==============================] - 34s 42ms/step - batch: 411.5000 - size: 24.9939 - loss: 0.4850 - acc: 0.9275 - val_loss: 0.6991 - val_acc: 0.8326\n",
      "Epoch 28/100\n",
      "824/824 [==============================] - 34s 42ms/step - batch: 411.5000 - size: 25.0000 - loss: 0.4796 - acc: 0.9263 - val_loss: 1.1469 - val_acc: 0.7130\n",
      "Epoch 29/100\n",
      "824/824 [==============================] - 34s 42ms/step - batch: 411.5000 - size: 24.9939 - loss: 0.4783 - acc: 0.9287 - val_loss: 1.0171 - val_acc: 0.7762\n",
      "Epoch 30/100\n",
      "824/824 [==============================] - 35s 43ms/step - batch: 411.5000 - size: 24.9879 - loss: 0.4662 - acc: 0.9290 - val_loss: 1.6646 - val_acc: 0.6495\n",
      "Epoch 31/100\n",
      "824/824 [==============================] - 35s 43ms/step - batch: 411.5000 - size: 25.0000 - loss: 0.5036 - acc: 0.9282 - val_loss: 2.5451 - val_acc: 0.6501\n",
      "Epoch 32/100\n",
      "824/824 [==============================] - 34s 42ms/step - batch: 411.5000 - size: 24.9939 - loss: 0.4652 - acc: 0.9280 - val_loss: 9.2210 - val_acc: 0.1780\n",
      "Epoch 33/100\n",
      "824/824 [==============================] - 35s 42ms/step - batch: 411.5000 - size: 25.0000 - loss: 0.4698 - acc: 0.9302 - val_loss: 2.1161 - val_acc: 0.6865\n",
      "Epoch 34/100\n",
      "824/824 [==============================] - 34s 41ms/step - batch: 411.5000 - size: 24.9879 - loss: 0.4647 - acc: 0.9304 - val_loss: 0.7908 - val_acc: 0.8004\n",
      "Epoch 35/100\n",
      "824/824 [==============================] - 35s 42ms/step - batch: 411.5000 - size: 25.0000 - loss: 0.4875 - acc: 0.9263 - val_loss: 2.1779 - val_acc: 0.5678\n",
      "Epoch 36/100\n",
      "824/824 [==============================] - 34s 42ms/step - batch: 411.5000 - size: 24.9939 - loss: 0.4571 - acc: 0.9294 - val_loss: 3.3010 - val_acc: 0.3687\n",
      "Epoch 37/100\n",
      "824/824 [==============================] - 35s 42ms/step - batch: 411.5000 - size: 24.9939 - loss: 0.4512 - acc: 0.9299 - val_loss: 10.5965 - val_acc: 0.0388\n",
      "Epoch 38/100\n",
      "824/824 [==============================] - 34s 41ms/step - batch: 411.5000 - size: 24.9939 - loss: 0.4534 - acc: 0.9328 - val_loss: 2.3844 - val_acc: 0.6278\n",
      "Epoch 39/100\n",
      "824/824 [==============================] - 34s 41ms/step - batch: 411.5000 - size: 25.0000 - loss: 0.4513 - acc: 0.9300 - val_loss: 4.5268 - val_acc: 0.2541\n",
      "Epoch 40/100\n",
      "824/824 [==============================] - 34s 42ms/step - batch: 411.5000 - size: 24.9939 - loss: 0.4465 - acc: 0.9317 - val_loss: 1.1616 - val_acc: 0.7149\n",
      "Epoch 41/100\n",
      "824/824 [==============================] - 34s 42ms/step - batch: 411.5000 - size: 24.9939 - loss: 0.4711 - acc: 0.9296 - val_loss: 2.4903 - val_acc: 0.4250\n",
      "Epoch 42/100\n",
      "824/824 [==============================] - 35s 42ms/step - batch: 411.5000 - size: 25.0000 - loss: 0.4537 - acc: 0.9278 - val_loss: 1.1851 - val_acc: 0.7084\n",
      "Epoch 43/100\n",
      "824/824 [==============================] - 31s 38ms/step - batch: 411.5000 - size: 24.9879 - loss: 0.4736 - acc: 0.9273 - val_loss: 2.2991 - val_acc: 0.5960\n",
      "Epoch 44/100\n",
      "824/824 [==============================] - 28s 34ms/step - batch: 411.5000 - size: 25.0000 - loss: 0.4431 - acc: 0.9316 - val_loss: 5.1928 - val_acc: 0.2774\n",
      "Epoch 45/100\n",
      "821/824 [============================>.] - ETA: 0s - batch: 410.0000 - size: 24.9939 - loss: 0.4594 - acc: 0.9288"
     ]
    },
    {
     "ename": "KeyboardInterrupt",
     "evalue": "",
     "output_type": "error",
     "traceback": [
      "\u001b[1;31m---------------------------------------------------------------------------\u001b[0m",
      "\u001b[1;31mKeyboardInterrupt\u001b[0m                         Traceback (most recent call last)",
      "\u001b[1;32m~\\AppData\\Local\\Temp\\ipykernel_21364\\3126515076.py\u001b[0m in \u001b[0;36m<module>\u001b[1;34m\u001b[0m\n\u001b[0;32m     12\u001b[0m                               \u001b[0mvalidation_data\u001b[0m\u001b[1;33m=\u001b[0m\u001b[0mtesting_image\u001b[0m\u001b[1;33m,\u001b[0m\u001b[1;33m\u001b[0m\u001b[1;33m\u001b[0m\u001b[0m\n\u001b[0;32m     13\u001b[0m                               \u001b[0mvalidation_steps\u001b[0m\u001b[1;33m=\u001b[0m\u001b[0mvalidation_steps\u001b[0m\u001b[1;33m,\u001b[0m\u001b[1;33m\u001b[0m\u001b[1;33m\u001b[0m\u001b[0m\n\u001b[1;32m---> 14\u001b[1;33m                               callbacks=[model_checkpoint])\n\u001b[0m",
      "\u001b[1;32mc:\\Users\\USER\\.conda\\envs\\adamw3.7\\lib\\site-packages\\keras\\engine\\training_v1.py\u001b[0m in \u001b[0;36mfit_generator\u001b[1;34m(self, generator, steps_per_epoch, epochs, verbose, callbacks, validation_data, validation_steps, validation_freq, class_weight, max_queue_size, workers, use_multiprocessing, shuffle, initial_epoch)\u001b[0m\n\u001b[0;32m   1243\u001b[0m         \u001b[0muse_multiprocessing\u001b[0m\u001b[1;33m=\u001b[0m\u001b[0muse_multiprocessing\u001b[0m\u001b[1;33m,\u001b[0m\u001b[1;33m\u001b[0m\u001b[1;33m\u001b[0m\u001b[0m\n\u001b[0;32m   1244\u001b[0m         \u001b[0mshuffle\u001b[0m\u001b[1;33m=\u001b[0m\u001b[0mshuffle\u001b[0m\u001b[1;33m,\u001b[0m\u001b[1;33m\u001b[0m\u001b[1;33m\u001b[0m\u001b[0m\n\u001b[1;32m-> 1245\u001b[1;33m         initial_epoch=initial_epoch)\n\u001b[0m\u001b[0;32m   1246\u001b[0m \u001b[1;33m\u001b[0m\u001b[0m\n\u001b[0;32m   1247\u001b[0m   def evaluate_generator(self,\n",
      "\u001b[1;32mc:\\Users\\USER\\.conda\\envs\\adamw3.7\\lib\\site-packages\\keras\\engine\\training_v1.py\u001b[0m in \u001b[0;36mfit\u001b[1;34m(self, x, y, batch_size, epochs, verbose, callbacks, validation_split, validation_data, shuffle, class_weight, sample_weight, initial_epoch, steps_per_epoch, validation_steps, validation_freq, max_queue_size, workers, use_multiprocessing, **kwargs)\u001b[0m\n\u001b[0;32m    794\u001b[0m         \u001b[0mmax_queue_size\u001b[0m\u001b[1;33m=\u001b[0m\u001b[0mmax_queue_size\u001b[0m\u001b[1;33m,\u001b[0m\u001b[1;33m\u001b[0m\u001b[1;33m\u001b[0m\u001b[0m\n\u001b[0;32m    795\u001b[0m         \u001b[0mworkers\u001b[0m\u001b[1;33m=\u001b[0m\u001b[0mworkers\u001b[0m\u001b[1;33m,\u001b[0m\u001b[1;33m\u001b[0m\u001b[1;33m\u001b[0m\u001b[0m\n\u001b[1;32m--> 796\u001b[1;33m         use_multiprocessing=use_multiprocessing)\n\u001b[0m\u001b[0;32m    797\u001b[0m \u001b[1;33m\u001b[0m\u001b[0m\n\u001b[0;32m    798\u001b[0m   def evaluate(self,\n",
      "\u001b[1;32mc:\\Users\\USER\\.conda\\envs\\adamw3.7\\lib\\site-packages\\keras\\engine\\training_generator_v1.py\u001b[0m in \u001b[0;36mfit\u001b[1;34m(self, model, x, y, batch_size, epochs, verbose, callbacks, validation_split, validation_data, shuffle, class_weight, sample_weight, initial_epoch, steps_per_epoch, validation_steps, validation_freq, max_queue_size, workers, use_multiprocessing)\u001b[0m\n\u001b[0;32m    584\u001b[0m         \u001b[0mshuffle\u001b[0m\u001b[1;33m=\u001b[0m\u001b[0mshuffle\u001b[0m\u001b[1;33m,\u001b[0m\u001b[1;33m\u001b[0m\u001b[1;33m\u001b[0m\u001b[0m\n\u001b[0;32m    585\u001b[0m         \u001b[0minitial_epoch\u001b[0m\u001b[1;33m=\u001b[0m\u001b[0minitial_epoch\u001b[0m\u001b[1;33m,\u001b[0m\u001b[1;33m\u001b[0m\u001b[1;33m\u001b[0m\u001b[0m\n\u001b[1;32m--> 586\u001b[1;33m         steps_name='steps_per_epoch')\n\u001b[0m\u001b[0;32m    587\u001b[0m \u001b[1;33m\u001b[0m\u001b[0m\n\u001b[0;32m    588\u001b[0m   def evaluate(self,\n",
      "\u001b[1;32mc:\\Users\\USER\\.conda\\envs\\adamw3.7\\lib\\site-packages\\keras\\engine\\training_generator_v1.py\u001b[0m in \u001b[0;36mmodel_iteration\u001b[1;34m(model, data, steps_per_epoch, epochs, verbose, callbacks, validation_data, validation_steps, validation_freq, class_weight, max_queue_size, workers, use_multiprocessing, shuffle, initial_epoch, mode, batch_size, steps_name, **kwargs)\u001b[0m\n\u001b[0;32m    304\u001b[0m           \u001b[0mverbose\u001b[0m\u001b[1;33m=\u001b[0m\u001b[0mverbose\u001b[0m\u001b[1;33m,\u001b[0m\u001b[1;33m\u001b[0m\u001b[1;33m\u001b[0m\u001b[0m\n\u001b[0;32m    305\u001b[0m           \u001b[0mmode\u001b[0m\u001b[1;33m=\u001b[0m\u001b[0mModeKeys\u001b[0m\u001b[1;33m.\u001b[0m\u001b[0mTEST\u001b[0m\u001b[1;33m,\u001b[0m\u001b[1;33m\u001b[0m\u001b[1;33m\u001b[0m\u001b[0m\n\u001b[1;32m--> 306\u001b[1;33m           steps_name='validation_steps')\n\u001b[0m\u001b[0;32m    307\u001b[0m \u001b[1;33m\u001b[0m\u001b[0m\n\u001b[0;32m    308\u001b[0m       \u001b[1;32mif\u001b[0m \u001b[1;32mnot\u001b[0m \u001b[0misinstance\u001b[0m\u001b[1;33m(\u001b[0m\u001b[0mval_results\u001b[0m\u001b[1;33m,\u001b[0m \u001b[0mlist\u001b[0m\u001b[1;33m)\u001b[0m\u001b[1;33m:\u001b[0m\u001b[1;33m\u001b[0m\u001b[1;33m\u001b[0m\u001b[0m\n",
      "\u001b[1;32mc:\\Users\\USER\\.conda\\envs\\adamw3.7\\lib\\site-packages\\keras\\engine\\training_generator_v1.py\u001b[0m in \u001b[0;36mmodel_iteration\u001b[1;34m(model, data, steps_per_epoch, epochs, verbose, callbacks, validation_data, validation_steps, validation_freq, class_weight, max_queue_size, workers, use_multiprocessing, shuffle, initial_epoch, mode, batch_size, steps_name, **kwargs)\u001b[0m\n\u001b[0;32m    210\u001b[0m     \u001b[0mstep\u001b[0m \u001b[1;33m=\u001b[0m \u001b[1;36m0\u001b[0m\u001b[1;33m\u001b[0m\u001b[1;33m\u001b[0m\u001b[0m\n\u001b[0;32m    211\u001b[0m     \u001b[1;32mwhile\u001b[0m \u001b[0mstep\u001b[0m \u001b[1;33m<\u001b[0m \u001b[0mtarget_steps\u001b[0m\u001b[1;33m:\u001b[0m\u001b[1;33m\u001b[0m\u001b[1;33m\u001b[0m\u001b[0m\n\u001b[1;32m--> 212\u001b[1;33m       \u001b[0mbatch_data\u001b[0m \u001b[1;33m=\u001b[0m \u001b[0m_get_next_batch\u001b[0m\u001b[1;33m(\u001b[0m\u001b[0mgenerator\u001b[0m\u001b[1;33m)\u001b[0m\u001b[1;33m\u001b[0m\u001b[1;33m\u001b[0m\u001b[0m\n\u001b[0m\u001b[0;32m    213\u001b[0m       \u001b[1;32mif\u001b[0m \u001b[0mbatch_data\u001b[0m \u001b[1;32mis\u001b[0m \u001b[1;32mNone\u001b[0m\u001b[1;33m:\u001b[0m\u001b[1;33m\u001b[0m\u001b[1;33m\u001b[0m\u001b[0m\n\u001b[0;32m    214\u001b[0m         \u001b[1;32mif\u001b[0m \u001b[0mis_dataset\u001b[0m\u001b[1;33m:\u001b[0m\u001b[1;33m\u001b[0m\u001b[1;33m\u001b[0m\u001b[0m\n",
      "\u001b[1;32mc:\\Users\\USER\\.conda\\envs\\adamw3.7\\lib\\site-packages\\keras\\engine\\training_generator_v1.py\u001b[0m in \u001b[0;36m_get_next_batch\u001b[1;34m(generator)\u001b[0m\n\u001b[0;32m    344\u001b[0m   \u001b[1;34m\"\"\"Retrieves the next batch of input data.\"\"\"\u001b[0m\u001b[1;33m\u001b[0m\u001b[1;33m\u001b[0m\u001b[0m\n\u001b[0;32m    345\u001b[0m   \u001b[1;32mtry\u001b[0m\u001b[1;33m:\u001b[0m\u001b[1;33m\u001b[0m\u001b[1;33m\u001b[0m\u001b[0m\n\u001b[1;32m--> 346\u001b[1;33m     \u001b[0mgenerator_output\u001b[0m \u001b[1;33m=\u001b[0m \u001b[0mnext\u001b[0m\u001b[1;33m(\u001b[0m\u001b[0mgenerator\u001b[0m\u001b[1;33m)\u001b[0m\u001b[1;33m\u001b[0m\u001b[1;33m\u001b[0m\u001b[0m\n\u001b[0m\u001b[0;32m    347\u001b[0m   \u001b[1;32mexcept\u001b[0m \u001b[1;33m(\u001b[0m\u001b[0mStopIteration\u001b[0m\u001b[1;33m,\u001b[0m \u001b[0mtf\u001b[0m\u001b[1;33m.\u001b[0m\u001b[0merrors\u001b[0m\u001b[1;33m.\u001b[0m\u001b[0mOutOfRangeError\u001b[0m\u001b[1;33m)\u001b[0m\u001b[1;33m:\u001b[0m\u001b[1;33m\u001b[0m\u001b[1;33m\u001b[0m\u001b[0m\n\u001b[0;32m    348\u001b[0m     \u001b[1;32mreturn\u001b[0m \u001b[1;32mNone\u001b[0m\u001b[1;33m\u001b[0m\u001b[1;33m\u001b[0m\u001b[0m\n",
      "\u001b[1;32mc:\\Users\\USER\\.conda\\envs\\adamw3.7\\lib\\site-packages\\keras\\utils\\data_utils.py\u001b[0m in \u001b[0;36mget\u001b[1;34m(self)\u001b[0m\n\u001b[0;32m    771\u001b[0m     \u001b[1;32mwhile\u001b[0m \u001b[0mself\u001b[0m\u001b[1;33m.\u001b[0m\u001b[0mis_running\u001b[0m\u001b[1;33m(\u001b[0m\u001b[1;33m)\u001b[0m\u001b[1;33m:\u001b[0m\u001b[1;33m\u001b[0m\u001b[1;33m\u001b[0m\u001b[0m\n\u001b[0;32m    772\u001b[0m       \u001b[1;32mtry\u001b[0m\u001b[1;33m:\u001b[0m\u001b[1;33m\u001b[0m\u001b[1;33m\u001b[0m\u001b[0m\n\u001b[1;32m--> 773\u001b[1;33m         \u001b[0minputs\u001b[0m \u001b[1;33m=\u001b[0m \u001b[0mself\u001b[0m\u001b[1;33m.\u001b[0m\u001b[0mqueue\u001b[0m\u001b[1;33m.\u001b[0m\u001b[0mget\u001b[0m\u001b[1;33m(\u001b[0m\u001b[0mblock\u001b[0m\u001b[1;33m=\u001b[0m\u001b[1;32mTrue\u001b[0m\u001b[1;33m,\u001b[0m \u001b[0mtimeout\u001b[0m\u001b[1;33m=\u001b[0m\u001b[1;36m5\u001b[0m\u001b[1;33m)\u001b[0m\u001b[1;33m.\u001b[0m\u001b[0mget\u001b[0m\u001b[1;33m(\u001b[0m\u001b[1;33m)\u001b[0m\u001b[1;33m\u001b[0m\u001b[1;33m\u001b[0m\u001b[0m\n\u001b[0m\u001b[0;32m    774\u001b[0m         \u001b[1;32mif\u001b[0m \u001b[0mself\u001b[0m\u001b[1;33m.\u001b[0m\u001b[0mis_running\u001b[0m\u001b[1;33m(\u001b[0m\u001b[1;33m)\u001b[0m\u001b[1;33m:\u001b[0m\u001b[1;33m\u001b[0m\u001b[1;33m\u001b[0m\u001b[0m\n\u001b[0;32m    775\u001b[0m           \u001b[0mself\u001b[0m\u001b[1;33m.\u001b[0m\u001b[0mqueue\u001b[0m\u001b[1;33m.\u001b[0m\u001b[0mtask_done\u001b[0m\u001b[1;33m(\u001b[0m\u001b[1;33m)\u001b[0m\u001b[1;33m\u001b[0m\u001b[1;33m\u001b[0m\u001b[0m\n",
      "\u001b[1;32mc:\\Users\\USER\\.conda\\envs\\adamw3.7\\lib\\multiprocessing\\pool.py\u001b[0m in \u001b[0;36mget\u001b[1;34m(self, timeout)\u001b[0m\n\u001b[0;32m    649\u001b[0m \u001b[1;33m\u001b[0m\u001b[0m\n\u001b[0;32m    650\u001b[0m     \u001b[1;32mdef\u001b[0m \u001b[0mget\u001b[0m\u001b[1;33m(\u001b[0m\u001b[0mself\u001b[0m\u001b[1;33m,\u001b[0m \u001b[0mtimeout\u001b[0m\u001b[1;33m=\u001b[0m\u001b[1;32mNone\u001b[0m\u001b[1;33m)\u001b[0m\u001b[1;33m:\u001b[0m\u001b[1;33m\u001b[0m\u001b[1;33m\u001b[0m\u001b[0m\n\u001b[1;32m--> 651\u001b[1;33m         \u001b[0mself\u001b[0m\u001b[1;33m.\u001b[0m\u001b[0mwait\u001b[0m\u001b[1;33m(\u001b[0m\u001b[0mtimeout\u001b[0m\u001b[1;33m)\u001b[0m\u001b[1;33m\u001b[0m\u001b[1;33m\u001b[0m\u001b[0m\n\u001b[0m\u001b[0;32m    652\u001b[0m         \u001b[1;32mif\u001b[0m \u001b[1;32mnot\u001b[0m \u001b[0mself\u001b[0m\u001b[1;33m.\u001b[0m\u001b[0mready\u001b[0m\u001b[1;33m(\u001b[0m\u001b[1;33m)\u001b[0m\u001b[1;33m:\u001b[0m\u001b[1;33m\u001b[0m\u001b[1;33m\u001b[0m\u001b[0m\n\u001b[0;32m    653\u001b[0m             \u001b[1;32mraise\u001b[0m \u001b[0mTimeoutError\u001b[0m\u001b[1;33m\u001b[0m\u001b[1;33m\u001b[0m\u001b[0m\n",
      "\u001b[1;32mc:\\Users\\USER\\.conda\\envs\\adamw3.7\\lib\\multiprocessing\\pool.py\u001b[0m in \u001b[0;36mwait\u001b[1;34m(self, timeout)\u001b[0m\n\u001b[0;32m    646\u001b[0m \u001b[1;33m\u001b[0m\u001b[0m\n\u001b[0;32m    647\u001b[0m     \u001b[1;32mdef\u001b[0m \u001b[0mwait\u001b[0m\u001b[1;33m(\u001b[0m\u001b[0mself\u001b[0m\u001b[1;33m,\u001b[0m \u001b[0mtimeout\u001b[0m\u001b[1;33m=\u001b[0m\u001b[1;32mNone\u001b[0m\u001b[1;33m)\u001b[0m\u001b[1;33m:\u001b[0m\u001b[1;33m\u001b[0m\u001b[1;33m\u001b[0m\u001b[0m\n\u001b[1;32m--> 648\u001b[1;33m         \u001b[0mself\u001b[0m\u001b[1;33m.\u001b[0m\u001b[0m_event\u001b[0m\u001b[1;33m.\u001b[0m\u001b[0mwait\u001b[0m\u001b[1;33m(\u001b[0m\u001b[0mtimeout\u001b[0m\u001b[1;33m)\u001b[0m\u001b[1;33m\u001b[0m\u001b[1;33m\u001b[0m\u001b[0m\n\u001b[0m\u001b[0;32m    649\u001b[0m \u001b[1;33m\u001b[0m\u001b[0m\n\u001b[0;32m    650\u001b[0m     \u001b[1;32mdef\u001b[0m \u001b[0mget\u001b[0m\u001b[1;33m(\u001b[0m\u001b[0mself\u001b[0m\u001b[1;33m,\u001b[0m \u001b[0mtimeout\u001b[0m\u001b[1;33m=\u001b[0m\u001b[1;32mNone\u001b[0m\u001b[1;33m)\u001b[0m\u001b[1;33m:\u001b[0m\u001b[1;33m\u001b[0m\u001b[1;33m\u001b[0m\u001b[0m\n",
      "\u001b[1;32mc:\\Users\\USER\\.conda\\envs\\adamw3.7\\lib\\threading.py\u001b[0m in \u001b[0;36mwait\u001b[1;34m(self, timeout)\u001b[0m\n\u001b[0;32m    550\u001b[0m             \u001b[0msignaled\u001b[0m \u001b[1;33m=\u001b[0m \u001b[0mself\u001b[0m\u001b[1;33m.\u001b[0m\u001b[0m_flag\u001b[0m\u001b[1;33m\u001b[0m\u001b[1;33m\u001b[0m\u001b[0m\n\u001b[0;32m    551\u001b[0m             \u001b[1;32mif\u001b[0m \u001b[1;32mnot\u001b[0m \u001b[0msignaled\u001b[0m\u001b[1;33m:\u001b[0m\u001b[1;33m\u001b[0m\u001b[1;33m\u001b[0m\u001b[0m\n\u001b[1;32m--> 552\u001b[1;33m                 \u001b[0msignaled\u001b[0m \u001b[1;33m=\u001b[0m \u001b[0mself\u001b[0m\u001b[1;33m.\u001b[0m\u001b[0m_cond\u001b[0m\u001b[1;33m.\u001b[0m\u001b[0mwait\u001b[0m\u001b[1;33m(\u001b[0m\u001b[0mtimeout\u001b[0m\u001b[1;33m)\u001b[0m\u001b[1;33m\u001b[0m\u001b[1;33m\u001b[0m\u001b[0m\n\u001b[0m\u001b[0;32m    553\u001b[0m             \u001b[1;32mreturn\u001b[0m \u001b[0msignaled\u001b[0m\u001b[1;33m\u001b[0m\u001b[1;33m\u001b[0m\u001b[0m\n\u001b[0;32m    554\u001b[0m \u001b[1;33m\u001b[0m\u001b[0m\n",
      "\u001b[1;32mc:\\Users\\USER\\.conda\\envs\\adamw3.7\\lib\\threading.py\u001b[0m in \u001b[0;36mwait\u001b[1;34m(self, timeout)\u001b[0m\n\u001b[0;32m    294\u001b[0m         \u001b[1;32mtry\u001b[0m\u001b[1;33m:\u001b[0m    \u001b[1;31m# restore state no matter what (e.g., KeyboardInterrupt)\u001b[0m\u001b[1;33m\u001b[0m\u001b[1;33m\u001b[0m\u001b[0m\n\u001b[0;32m    295\u001b[0m             \u001b[1;32mif\u001b[0m \u001b[0mtimeout\u001b[0m \u001b[1;32mis\u001b[0m \u001b[1;32mNone\u001b[0m\u001b[1;33m:\u001b[0m\u001b[1;33m\u001b[0m\u001b[1;33m\u001b[0m\u001b[0m\n\u001b[1;32m--> 296\u001b[1;33m                 \u001b[0mwaiter\u001b[0m\u001b[1;33m.\u001b[0m\u001b[0macquire\u001b[0m\u001b[1;33m(\u001b[0m\u001b[1;33m)\u001b[0m\u001b[1;33m\u001b[0m\u001b[1;33m\u001b[0m\u001b[0m\n\u001b[0m\u001b[0;32m    297\u001b[0m                 \u001b[0mgotit\u001b[0m \u001b[1;33m=\u001b[0m \u001b[1;32mTrue\u001b[0m\u001b[1;33m\u001b[0m\u001b[1;33m\u001b[0m\u001b[0m\n\u001b[0;32m    298\u001b[0m             \u001b[1;32melse\u001b[0m\u001b[1;33m:\u001b[0m\u001b[1;33m\u001b[0m\u001b[1;33m\u001b[0m\u001b[0m\n",
      "\u001b[1;31mKeyboardInterrupt\u001b[0m: "
     ]
    }
   ],
   "source": [
    "steps_per_epoch = 26370//32\n",
    "validation_steps =26370//32\n",
    "\n",
    "from tensorflow.keras.callbacks import ModelCheckpoint\n",
    "\n",
    "filename = 'model/checkpoint-epoch-{epoch:02d}-val_acc-{val_acc:.4f}.h5'\n",
    "model_checkpoint = ModelCheckpoint(filename, save_best_only=True, monitor='val_acc', mode='max',verbose=0)\n",
    "\n",
    "history = model.fit_generator(generator=training_image,\n",
    "                              steps_per_epoch=steps_per_epoch,\n",
    "                              epochs=100,\n",
    "                              validation_data=testing_image,\n",
    "                              validation_steps=validation_steps,\n",
    "                              callbacks=[model_checkpoint])"
   ]
  },
  {
   "cell_type": "code",
   "execution_count": null,
   "id": "14f81597",
   "metadata": {
    "execution": {
     "iopub.execute_input": "2023-02-04T22:01:52.315318Z",
     "iopub.status.busy": "2023-02-04T22:01:52.314952Z",
     "iopub.status.idle": "2023-02-04T22:01:52.319557Z",
     "shell.execute_reply": "2023-02-04T22:01:52.318596Z"
    },
    "papermill": {
     "duration": 2.412649,
     "end_time": "2023-02-04T22:01:52.321636",
     "exception": false,
     "start_time": "2023-02-04T22:01:49.908987",
     "status": "completed"
    },
    "tags": []
   },
   "outputs": [],
   "source": [
    "model.save(\"AdamW.h5\")\n",
    "pd.options.display.float_format = '{:7f}'.format"
   ]
  },
  {
   "cell_type": "code",
   "execution_count": null,
   "id": "c54b2543",
   "metadata": {
    "execution": {
     "iopub.execute_input": "2023-02-04T22:01:57.197383Z",
     "iopub.status.busy": "2023-02-04T22:01:57.196998Z",
     "iopub.status.idle": "2023-02-04T22:01:57.206172Z",
     "shell.execute_reply": "2023-02-04T22:01:57.205232Z"
    },
    "papermill": {
     "duration": 2.431389,
     "end_time": "2023-02-04T22:01:57.208310",
     "exception": false,
     "start_time": "2023-02-04T22:01:54.776921",
     "status": "completed"
    },
    "tags": []
   },
   "outputs": [],
   "source": [
    "# def processing(path):\n",
    "#     img = cv2.imread(path)\n",
    "#     print(img.shape)\n",
    "#     plt.imshow(img)\n",
    "#     test1_proc = image.load_img(path , target_size=(100,100))\n",
    "#     test1_proc_1 = image.img_to_array(test1_proc)\n",
    "#     t1 = np.expand_dims(test1_proc ,axis=0)\n",
    "#     t1 = t1/255\n",
    "#     pred_classes = model.predict(t1)\n",
    "#     pred = np.argmax(pred_classes ,axis=1)\n",
    "\n",
    "#     plt.subplot(121)\n",
    "#     pic = Image.open(path) \n",
    "#     plt.xlabel(\"Original Image\")\n",
    "#     plt.imshow(pic)\n",
    "    \n",
    "    \n",
    "#     plt.subplot(122)\n",
    "    \n",
    "#     s1 = pd.Series(pred_classes.ravel() , index = training_image.class_indices.keys())\n",
    "#     s1.plot(kind = 'barh' ,figsize = (10,5),color='green')\n",
    "#     plt.xlabel(\"prediction\")\n",
    "#     plt.tight_layout()\n",
    "#     plt.show()\n",
    "\n",
    "#     for i in training_image.class_indices:\n",
    "#         if pred == training_image.class_indices[i]:\n",
    "#             print(\"prediction made by model is :\" ,i)\n",
    "            \n",
    "            \n",
    "    \n",
    "    \n",
    "#     print(s1)\n",
    "#     print(type(s1))\n"
   ]
  },
  {
   "cell_type": "code",
   "execution_count": null,
   "id": "10402824",
   "metadata": {},
   "outputs": [],
   "source": [
    "def processing(path):\n",
    "    img = cv2.imread(path, cv2.IMREAD_GRAYSCALE)\n",
    "    img = np.expand_dims(img, axis=-1)  # 이미지 데이터에 채널 차원 추가\n",
    "\n",
    "    # plt.imshow(img, cmap='gray')\n",
    "\n",
    "    test1_proc = image.load_img(path, color_mode='grayscale', target_size=(100, 100))\n",
    "    test1_proc_1 = image.img_to_array(test1_proc)\n",
    "    t1 = np.expand_dims(test1_proc_1, axis=0)\n",
    "    t1 = t1 / 255\n",
    "    pred_classes = model.predict(t1)\n",
    "    pred = np.argmax(pred_classes, axis=1)\n",
    "\n",
    "    original_label = os.path.basename(os.path.dirname(path))\n",
    "    \n",
    "    # plt.subplot(121)\n",
    "    # pic = Image.open(path)\n",
    "    # plt.xlabel(\"Original Image : \" + original_label)\n",
    "    # # plt.imshow(pic, cmap='jet')\n",
    "    # color='deepskyblue'\n",
    "    # plt.subplot(122)\n",
    "    # s1 = pd.Series(pred_classes.ravel(), index=training_image.class_indices.keys())\n",
    "    # s1.plot(kind='barh', figsize=(10, 5), color=color)\n",
    "    # a1=s1.plot(kind='barh', figsize=(10, 5), color=color)\n",
    "\n",
    "    # for p in a1.patches:\n",
    "    #     left, bottom, width, height = p.get_bbox().bounds\n",
    "    #     percentage = width * 100\n",
    "    #     if percentage > 0.2:  # 그래프 수치가 0보다 클 때만 표시\n",
    "    #         a1.annotate(\"%.1f\" % percentage, xy=(left + width / 2, bottom + height / 2), ha='center', va='center')\n",
    "\n",
    "\n",
    "    # plt.xlabel(\"prediction\")\n",
    "    # plt.tight_layout()\n",
    "    # plt.show()\n",
    "\n",
    "    predicted_label = list(training_image.class_indices.keys())[pred[0]]\n",
    "\n",
    "\n",
    "\n",
    "    # for i in training_image.class_indices:\n",
    "    #     if pred == training_image.class_indices[i]:\n",
    "    #         print(\"prediction made by model is:\", i)\n",
    "\n",
    "    # print(s1)\n",
    "    # print(type(s1))\n",
    "    \n",
    "    return predicted_label\n"
   ]
  },
  {
   "cell_type": "code",
   "execution_count": null,
   "metadata": {},
   "outputs": [
    {
     "data": {
      "image/png": "[encoded data removed]",
      "text/plain": [
       "<Figure size 640x480 with 2 Axes>"
      ]
     },
     "metadata": {},
     "output_type": "display_data"
    },
    {
     "name": "stdout",
     "output_type": "stream",
     "text": [
      "Accuracy: 99.08%\n",
      "Classification Report:\n",
      "                           precision    recall  f1-score   support\n",
      "\n",
      "      abnormal_form_donut       0.00      0.00      0.00         0\n",
      "       abnormal_form_hump       1.00      0.99      1.00       109\n",
      "abnormal_form_shape_error       0.00      0.00      0.00         0\n",
      "   foreign_material_fixed       0.00      0.00      0.00         0\n",
      "foreign_material_floating       0.00      0.00      0.00         0\n",
      "              non_through       0.00      0.00      0.00         0\n",
      "                  scratch       0.00      0.00      0.00         0\n",
      "              unprocessed       0.00      0.00      0.00         0\n",
      "\n",
      "                micro avg       0.99      0.99      0.99       109\n",
      "                macro avg       0.12      0.12      0.12       109\n",
      "             weighted avg       1.00      0.99      1.00       109\n",
      "\n"
     ]
    }
   ],
   "source": [
    "from tensorflow.keras.models import load_model\n",
    "from sklearn.metrics import classification_report, confusion_matrix\n",
    "import numpy as np\n",
    "import seaborn as sns\n",
    "def evaluate_model(image_folder):\n",
    "    # 폴더 내의 이미지 파일 목록 획득\n",
    "    image_files = [f for f in os.listdir(image_folder) if os.path.isfile(os.path.join(image_folder, f)) and f.lower().endswith(('.png', '.jpg', '.jpeg', '.bmp', '.gif'))]\n",
    "    total_images = len(image_files)\n",
    "    match_count = 0\n",
    "    y_true = []  # 정답 레이블\n",
    "    y_pred = []  # 모델의 예측 레이블\n",
    "\n",
    "    # 이미지 평가\n",
    "    for image_file in image_files:\n",
    "        image_path = os.path.join(image_folder, image_file)\n",
    "        original_label = os.path.basename(os.path.dirname(image_path))\n",
    "\n",
    "        predicted_label = processing(image_path)\n",
    "\n",
    "        # 정답 레이블 및 모델의 예측 레이블 추가\n",
    "        y_true.append(original_label)\n",
    "        y_pred.append(predicted_label)\n",
    "\n",
    "        if original_label == predicted_label:\n",
    "            match_count += 1\n",
    "\n",
    "    accuracy_percentage = (match_count / total_images) * 100\n",
    "\n",
    "    # 혼동 행렬 계산\n",
    "    cm = confusion_matrix(y_true, y_pred)\n",
    "    \n",
    "    # 혼동 행렬을 시각화하여 출력 (선택 사항)\n",
    "    sns.heatmap(cm, annot=True, fmt='d', cmap='Blues')\n",
    "    plt.xlabel('Predicted')\n",
    "    plt.ylabel('Actual')\n",
    "    plt.title('Confusion Matrix')\n",
    "    plt.show()\n",
    "    class_names = list(training_image.class_indices.keys())\n",
    "\n",
    "    # 정밀도, 재현율, F1 점수, 지원도 계산\n",
    "    classification_rep = classification_report(y_true, y_pred, target_names=class_names,labels=class_names)\n",
    "    \n",
    "    # 정확도 출력\n",
    "    print(f\"Accuracy: {accuracy_percentage:.2f}%\")\n",
    "\n",
    "    # 분류 보고서 출력\n",
    "    print(\"Classification Report:\")\n",
    "    print(classification_rep)\n",
    "\n",
    "# 모델 성능 평가를 실행할 폴더 설정\n",
    "image_folder = \"wafer/dataset/consistency/abnormal_form_hump/\"\n",
    "\n",
    "# 모델 평가 실행\n",
    "evaluate_model(image_folder)"
   ]
  },
  {
   "cell_type": "code",
   "execution_count": null,
   "id": "50b659c9",
   "metadata": {
    "execution": {
     "iopub.execute_input": "2023-02-04T22:02:02.211050Z",
     "iopub.status.busy": "2023-02-04T22:02:02.210686Z",
     "iopub.status.idle": "2023-02-04T22:02:02.798388Z",
     "shell.execute_reply": "2023-02-04T22:02:02.797487Z"
    },
    "papermill": {
     "duration": 2.96385,
     "end_time": "2023-02-04T22:02:02.803752",
     "exception": false,
     "start_time": "2023-02-04T22:01:59.839902",
     "status": "completed"
    },
    "tags": []
   },
   "outputs": [
    {
     "data": {
      "text/plain": [
       "'unprocessed'"
      ]
     },
     "execution_count": 17,
     "metadata": {},
     "output_type": "execute_result"
    }
   ],
   "source": [
    "processing(\"wafer/dataset/consistency/unprocessed/non_through_220.bmp\")"
   ]
  },
  {
   "cell_type": "code",
   "execution_count": null,
   "id": "1b236024",
   "metadata": {},
   "outputs": [],
   "source": []
  },
  {
   "cell_type": "code",
   "execution_count": null,
   "id": "ebd68b2f",
   "metadata": {},
   "outputs": [],
   "source": [
    "# processing(\"wafer/dataset/consistency/foreign_material_floating/2_15287.bmp\")"
   ]
  },
  {
   "cell_type": "code",
   "execution_count": null,
   "id": "1bb98b9f",
   "metadata": {
    "execution": {
     "iopub.execute_input": "2023-02-04T22:02:07.515825Z",
     "iopub.status.busy": "2023-02-04T22:02:07.515473Z",
     "iopub.status.idle": "2023-02-04T22:02:07.896579Z",
     "shell.execute_reply": "2023-02-04T22:02:07.895642Z"
    },
    "papermill": {
     "duration": 2.740386,
     "end_time": "2023-02-04T22:02:07.900899",
     "exception": false,
     "start_time": "2023-02-04T22:02:05.160513",
     "status": "completed"
    },
    "tags": []
   },
   "outputs": [],
   "source": [
    "# processing(\"wafer/dataset/consistency/abnormal_form_shape_error/abnormal_form_shape_error_2037.bmp\")\n"
   ]
  },
  {
   "cell_type": "code",
   "execution_count": null,
   "id": "bde2df0d",
   "metadata": {},
   "outputs": [],
   "source": [
    "# processing(\"wafer/dataset/consistency/abnormal_form_hump/abnormal_form_hump_3518.bmp\")"
   ]
  },
  {
   "cell_type": "code",
   "execution_count": null,
   "id": "b873b267",
   "metadata": {
    "execution": {
     "iopub.execute_input": "2023-02-04T22:02:23.959732Z",
     "iopub.status.busy": "2023-02-04T22:02:23.959361Z",
     "iopub.status.idle": "2023-02-04T22:02:24.345135Z",
     "shell.execute_reply": "2023-02-04T22:02:24.344232Z"
    },
    "papermill": {
     "duration": 2.847619,
     "end_time": "2023-02-04T22:02:24.347171",
     "exception": false,
     "start_time": "2023-02-04T22:02:21.499552",
     "status": "completed"
    },
    "tags": []
   },
   "outputs": [
    {
     "data": {
      "image/png": "[encoded data removed]",
      "text/plain": [
       "<Figure size 640x480 with 1 Axes>"
      ]
     },
     "metadata": {},
     "output_type": "display_data"
    },
    {
     "data": {
      "image/png": "[encoded data removed]",
      "text/plain": [
       "<Figure size 640x480 with 1 Axes>"
      ]
     },
     "metadata": {},
     "output_type": "display_data"
    }
   ],
   "source": [
    "plt.plot(history.history['acc'])\n",
    "plt.plot(history.history['val_acc'])\n",
    "plt.title('Model acc')\n",
    "plt.ylabel('Accuracy')\n",
    "plt.xlabel('Epoch')\n",
    "plt.legend(['Train', 'Test'], loc='upper left')\n",
    "plt.show()\n",
    "\n",
    "plt.plot(history.history['loss'])\n",
    "plt.plot(history.history['val_loss'])\n",
    "plt.title('Model loss')\n",
    "plt.ylabel('Loss')\n",
    "plt.xlabel('Epoch')\n",
    "plt.legend(['Train', 'Test'], loc='upper left')\n",
    "plt.show()"
   ]
  },
  {
   "cell_type": "code",
   "execution_count": null,
   "id": "32831d63",
   "metadata": {},
   "outputs": [
    {
     "name": "stdout",
     "output_type": "stream",
     "text": [
      "wafercopy/dataset/consistency\\abnormal_form_donut\n",
      "원래 레이블과 일치하는 이미지 수: 10/10\n",
      "일치 비율: 100.00%\n"
     ]
    }
   ],
   "source": [
    "#원래 코드\n",
    "\n",
    "import os\n",
    "import random\n",
    "\n",
    "# 디렉토리에서 무작위로 폴더 선택\n",
    "validation_data_dir = 'wafercopy/dataset/consistency'  # 검증 데이터 폴더의 경로로 변경\n",
    "selected_folder = random.choice(os.listdir(validation_data_dir))\n",
    "folder_path = os.path.join(validation_data_dir, selected_folder)\n",
    "print(folder_path)\n",
    "\n",
    "# 폴더에서 모든 이미지 파일 가져오기\n",
    "image_files = [f for f in os.listdir(folder_path) if f.endswith(\".bmp\")]\n",
    "\n",
    "# 100개의 이미지를 무작위로 선택\n",
    "selected_images = random.sample(image_files, 10)\n",
    "\n",
    "# 선택한 이미지들을 처리하고 예측하기\n",
    "correct_predictions = 0\n",
    "\n",
    "for image_file in selected_images:\n",
    "    image_path = os.path.join(folder_path, image_file)\n",
    "    \n",
    "    # 예측 실행\n",
    "    processing(image_path)  # 이미지 처리 및 예측\n",
    "\n",
    "    # 원래 레이블과 비교\n",
    "    original_label = os.path.basename(selected_folder)\n",
    "    predicted_label =  processing(image_path)\n",
    "    \n",
    "    if original_label == predicted_label:\n",
    "        correct_predictions += 1\n",
    "\n",
    "# 일치 비율 계산\n",
    "total_images = len(selected_images)\n",
    "accuracy = (correct_predictions / total_images) * 100\n",
    "print(f\"원래 레이블과 일치하는 이미지 수: {correct_predictions}/{total_images}\")\n",
    "print(f\"일치 비율: {accuracy:.2f}%\")"
   ]
  },
  {
   "cell_type": "code",
   "execution_count": null,
   "id": "9207c28d",
   "metadata": {},
   "outputs": [],
   "source": [
    "# import os\n",
    "# import random\n",
    "\n",
    "# # 디렉토리에서 무작위로 폴더 선택\n",
    "# validation_data_dir = 'wafercopy/dataset/consistency'  # 검증 데이터 폴더의 경로로 변경\n",
    "# selected_folder = random.choice(os.listdir(validation_data_dir))\n",
    "# folder_path = os.path.join(validation_data_dir, selected_folder)\n",
    "# print(folder_path)\n",
    "\n",
    "\n",
    "# validation_data_dir = 'wafercopy/dataset/consistency'  # 검증 데이터 폴더의 경로로 변경\n",
    "# folders = os.listdir(validation_data_dir)\n",
    "\n",
    "# for selected_folder in folders:\n",
    "#     folder_path = os.path.join(validation_data_dir, selected_folder)\n",
    "#     print(folder_path)\n",
    "\n",
    "# # 폴더에서 모든 이미지 파일 가져오기\n",
    "# image_files = [f for f in os.listdir(folder_path) if f.endswith(\".bmp\")]\n",
    "\n",
    "# # 100개의 이미지를 무작위로 선택\n",
    "# selected_images = random.sample(image_files, 100)\n",
    "\n",
    "# # 선택한 이미지들을 처리하고 예측하기\n",
    "# correct_predictions = 0\n",
    "\n",
    "\n",
    "# for image_file in selected_images:\n",
    "#     image_path = os.path.join(folder_path, image_file)\n",
    "    \n",
    "#     # 예측 실행\n",
    "#     processing(image_path)  # 이미지 처리 및 예측\n",
    "    \n",
    "#     # 원래 레이블과 비교\n",
    "#     original_label = os.path.basename(selected_folder)\n",
    "#     predicted_label =  processing(image_path)\n",
    "    \n",
    "#     if original_label == predicted_label:\n",
    "#         correct_predictions += 1\n",
    "\n",
    "# # 일치 비율 계산\n",
    "# total_images = len(selected_images)\n",
    "# accuracy = (correct_predictions / total_images) * 100\n",
    "# print(f\"원래 레이블과 일치하는 이미지 수: {correct_predictions}/{total_images}\")\n",
    "# print(f\"일치 비율: {accuracy:.2f}%\")\n"
   ]
  }
 ],
 "metadata": {
  "kernelspec": {
   "display_name": "test3.7",
   "language": "python",
   "name": "python3"
  },
  "language_info": {
   "codemirror_mode": {
    "name": "ipython",
    "version": 3
   },
   "file_extension": ".py",
   "mimetype": "text/x-python",
   "name": "python",
   "nbconvert_exporter": "python",
   "pygments_lexer": "ipython3",
   "version": "3.7.16"
  },
  "papermill": {
   "default_parameters": {},
   "duration": 8082.118901,
   "end_time": "2023-02-04T22:02:44.730917",
   "environment_variables": {},
   "exception": null,
   "input_path": "__notebook__.ipynb",
   "output_path": "__notebook__.ipynb",
   "parameters": {},
   "start_time": "2023-02-04T19:48:02.612016",
   "version": "2.3.4"
  },
  "vscode": {
   "interpreter": {
    "hash": "0fb79274e6fc70a7fbc889e06b9471ea0b5b2422b84ed2fccb81878f333629a8"
   }
  }
 },
 "nbformat": 4,
 "nbformat_minor": 5
}
