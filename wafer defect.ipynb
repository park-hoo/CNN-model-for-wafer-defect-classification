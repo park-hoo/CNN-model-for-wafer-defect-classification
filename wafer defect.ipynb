{
 "cells": [
  {
   "attachments": {},
   "cell_type": "markdown",
   "id": "ad6fa978",
   "metadata": {
    "papermill": {
     "duration": 0.006128,
     "end_time": "2023-02-04T19:48:10.321028",
     "exception": false,
     "start_time": "2023-02-04T19:48:10.314900",
     "status": "completed"
    },
    "tags": []
   },
   "source": [
    "# Image Classification using Keras"
   ]
  },
  {
   "cell_type": "code",
   "execution_count": 1,
   "id": "2b487355",
   "metadata": {},
   "outputs": [],
   "source": [
    "import os; os.environ[\"TF_KERAS\"]='1'"
   ]
  },
  {
   "cell_type": "code",
   "execution_count": 2,
   "id": "2ea679e0",
   "metadata": {
    "execution": {
     "iopub.execute_input": "2023-02-04T19:48:10.377534Z",
     "iopub.status.busy": "2023-02-04T19:48:10.377130Z",
     "iopub.status.idle": "2023-02-04T19:48:15.723859Z",
     "shell.execute_reply": "2023-02-04T19:48:15.722865Z"
    },
    "papermill": {
     "duration": 5.359846,
     "end_time": "2023-02-04T19:48:15.726491",
     "exception": false,
     "start_time": "2023-02-04T19:48:10.366645",
     "status": "completed"
    },
    "tags": []
   },
   "outputs": [
    {
     "name": "stdout",
     "output_type": "stream",
     "text": [
      "WARNING:tensorflow:From c:\\Users\\USER\\.conda\\envs\\test3.7\\lib\\site-packages\\tensorflow\\python\\compat\\v2_compat.py:101: disable_resource_variables (from tensorflow.python.ops.variable_scope) is deprecated and will be removed in a future version.\n",
      "Instructions for updating:\n",
      "non-resource variables are not supported in the long term\n"
     ]
    }
   ],
   "source": [
    "\n",
    "import numpy as np\n",
    "import matplotlib.pyplot as plt\n",
    "from keras.preprocessing.image import ImageDataGenerator\n",
    "import cv2\n",
    "import tensorflow.compat.v1 as tf\n",
    "import os\n",
    "os.environ['CUDA_VISIBLE_DEVICES'] = '0' ## 초기화할 GPU number\n",
    "tf.disable_v2_behavior()\n",
    "import warnings\n",
    "warnings.filterwarnings('ignore')\n",
    "from keras.models import load_model\n",
    "from keras.preprocessing import image\n",
    "from tensorflow.keras.models import Sequential\n",
    "from tensorflow.keras.layers import Conv2D, MaxPooling2D, Flatten, Dense, Dropout, BatchNormalization\n",
    "from tensorflow.keras.optimizers import Adam\n",
    "from keras_adamw import AdamW\n",
    "from PIL import Image\n",
    "import pandas as pd\n",
    "import warnings\n",
    "warnings.filterwarnings('ignore')"
   ]
  },
  {
   "cell_type": "code",
   "execution_count": 3,
   "id": "6cd3a22d",
   "metadata": {},
   "outputs": [],
   "source": [
    "# print(keras.__version__)"
   ]
  },
  {
   "cell_type": "code",
   "execution_count": 4,
   "id": "eec92640",
   "metadata": {
    "execution": {
     "iopub.execute_input": "2023-02-04T19:48:15.738987Z",
     "iopub.status.busy": "2023-02-04T19:48:15.738361Z",
     "iopub.status.idle": "2023-02-04T19:48:15.743367Z",
     "shell.execute_reply": "2023-02-04T19:48:15.742465Z"
    },
    "papermill": {
     "duration": 0.013548,
     "end_time": "2023-02-04T19:48:15.745407",
     "exception": false,
     "start_time": "2023-02-04T19:48:15.731859",
     "status": "completed"
    },
    "tags": []
   },
   "outputs": [],
   "source": [
    "image_gen = ImageDataGenerator(rotation_range=25,\n",
    "                              width_shift_range=0.1,\n",
    "                              height_shift_range=0.1,rescale=1/255,shear_range=0.2,\n",
    "                              zoom_range=0.2,horizontal_flip=True,fill_mode='nearest')"
   ]
  },
  {
   "cell_type": "code",
   "execution_count": 5,
   "id": "8b7bc8f4",
   "metadata": {
    "execution": {
     "iopub.execute_input": "2023-02-04T19:48:15.756404Z",
     "iopub.status.busy": "2023-02-04T19:48:15.756113Z",
     "iopub.status.idle": "2023-02-04T19:48:15.760200Z",
     "shell.execute_reply": "2023-02-04T19:48:15.759277Z"
    },
    "papermill": {
     "duration": 0.011627,
     "end_time": "2023-02-04T19:48:15.762114",
     "exception": false,
     "start_time": "2023-02-04T19:48:15.750487",
     "status": "completed"
    },
    "tags": []
   },
   "outputs": [],
   "source": [
    "path = \"wafer/dataset/class/abnormal_form_donut/abnormal_form_donut_2.bmp\""
   ]
  },
  {
   "cell_type": "code",
   "execution_count": 6,
   "id": "b0fb57de",
   "metadata": {
    "execution": {
     "iopub.execute_input": "2023-02-04T19:48:15.772928Z",
     "iopub.status.busy": "2023-02-04T19:48:15.772646Z",
     "iopub.status.idle": "2023-02-04T19:48:15.777391Z",
     "shell.execute_reply": "2023-02-04T19:48:15.776459Z"
    },
    "papermill": {
     "duration": 0.012336,
     "end_time": "2023-02-04T19:48:15.779257",
     "exception": false,
     "start_time": "2023-02-04T19:48:15.766921",
     "status": "completed"
    },
    "tags": []
   },
   "outputs": [],
   "source": [
    "def display_img(path):\n",
    "    plt.figure(figsize=(2,2))\n",
    "    read = cv2.imread(path)\n",
    "    # read_cvt = cv2.cvtColor(read ,cv2.COLOR_BGR2RGB)\n",
    "    # read_cvt = cv2.cvtColor(read)\n",
    "    print(read.shape)\n",
    "    plt.imshow(read)\n",
    "    plt.show()"
   ]
  },
  {
   "cell_type": "code",
   "execution_count": 7,
   "id": "0f0af0ab",
   "metadata": {
    "execution": {
     "iopub.execute_input": "2023-02-04T19:48:15.791005Z",
     "iopub.status.busy": "2023-02-04T19:48:15.789647Z",
     "iopub.status.idle": "2023-02-04T19:48:16.004078Z",
     "shell.execute_reply": "2023-02-04T19:48:16.003005Z"
    },
    "papermill": {
     "duration": 0.222264,
     "end_time": "2023-02-04T19:48:16.006316",
     "exception": false,
     "start_time": "2023-02-04T19:48:15.784052",
     "status": "completed"
    },
    "tags": []
   },
   "outputs": [
    {
     "name": "stdout",
     "output_type": "stream",
     "text": [
      "(100, 100, 3)\n"
     ]
    },
    {
     "data": {
      "image/png": "[encoded data removed]",
      "text/plain": [
       "<Figure size 200x200 with 1 Axes>"
      ]
     },
     "metadata": {},
     "output_type": "display_data"
    }
   ],
   "source": [
    "display_img(path)"
   ]
  },
  {
   "cell_type": "code",
   "execution_count": 8,
   "id": "d6aec05c",
   "metadata": {
    "execution": {
     "iopub.execute_input": "2023-02-04T19:48:16.019320Z",
     "iopub.status.busy": "2023-02-04T19:48:16.017922Z",
     "iopub.status.idle": "2023-02-04T19:48:32.674139Z",
     "shell.execute_reply": "2023-02-04T19:48:32.672997Z"
    },
    "papermill": {
     "duration": 16.66577,
     "end_time": "2023-02-04T19:48:32.677605",
     "exception": false,
     "start_time": "2023-02-04T19:48:16.011835",
     "status": "completed"
    },
    "tags": []
   },
   "outputs": [
    {
     "name": "stdout",
     "output_type": "stream",
     "text": [
      "Found 26370 images belonging to 8 classes.\n"
     ]
    },
    {
     "data": {
      "text/plain": [
       "<keras.preprocessing.image.DirectoryIterator at 0x201f4019608>"
      ]
     },
     "execution_count": 8,
     "metadata": {},
     "output_type": "execute_result"
    }
   ],
   "source": [
    "image_gen.flow_from_directory(\"wafer/dataset/class\")"
   ]
  },
  {
   "cell_type": "code",
   "execution_count": 9,
   "id": "79c953e5",
   "metadata": {
    "execution": {
     "iopub.execute_input": "2023-02-04T19:48:32.690898Z",
     "iopub.status.busy": "2023-02-04T19:48:32.689893Z",
     "iopub.status.idle": "2023-02-04T19:48:35.701559Z",
     "shell.execute_reply": "2023-02-04T19:48:35.700573Z"
    },
    "papermill": {
     "duration": 3.020123,
     "end_time": "2023-02-04T19:48:35.703644",
     "exception": false,
     "start_time": "2023-02-04T19:48:32.683521",
     "status": "completed"
    },
    "tags": []
   },
   "outputs": [],
   "source": [
    "model = Sequential()"
   ]
  },
  {
   "cell_type": "code",
   "execution_count": 10,
   "id": "04d5a682",
   "metadata": {
    "execution": {
     "iopub.execute_input": "2023-02-04T19:48:35.717575Z",
     "iopub.status.busy": "2023-02-04T19:48:35.717240Z",
     "iopub.status.idle": "2023-02-04T19:48:36.029989Z",
     "shell.execute_reply": "2023-02-04T19:48:36.029027Z"
    },
    "papermill": {
     "duration": 0.322952,
     "end_time": "2023-02-04T19:48:36.032564",
     "exception": false,
     "start_time": "2023-02-04T19:48:35.709612",
     "status": "completed"
    },
    "tags": []
   },
   "outputs": [
    {
     "name": "stdout",
     "output_type": "stream",
     "text": [
      "WARNING:tensorflow:From c:\\Users\\USER\\.conda\\envs\\test3.7\\lib\\site-packages\\keras\\layers\\normalization\\batch_normalization.py:520: _colocate_with (from tensorflow.python.framework.ops) is deprecated and will be removed in a future version.\n",
      "Instructions for updating:\n",
      "Colocations handled automatically by placer.\n"
     ]
    }
   ],
   "source": [
    "model.add(Conv2D(filters=64, kernel_size=(3,3), activation='relu', input_shape=(100, 100, 1)))\n",
    "model.add(BatchNormalization())\n",
    "model.add(MaxPooling2D(pool_size=(2,2)))\n",
    "\n",
    "model.add(Conv2D(filters=128, kernel_size=(3,3), activation='relu'))\n",
    "model.add(BatchNormalization())\n",
    "model.add(MaxPooling2D(pool_size=(2,2)))\n",
    "\n",
    "model.add(Conv2D(filters=256, kernel_size=(3,3), activation='relu'))\n",
    "model.add(BatchNormalization())\n",
    "model.add(MaxPooling2D(pool_size=(2,2)))\n",
    "\n",
    "model.add(Conv2D(filters=512, kernel_size=(3,3), activation='relu'))\n",
    "model.add(BatchNormalization())\n",
    "model.add(MaxPooling2D(pool_size=(2,2)))\n",
    "\n",
    "model.add(Flatten())\n",
    "\n",
    "model.add(Dense(1024, activation='relu'))\n",
    "model.add(BatchNormalization())\n",
    "model.add(Dropout(0.5))\n",
    "\n",
    "model.add(Dense(512, activation='relu'))\n",
    "model.add(BatchNormalization())\n",
    "model.add(Dropout(0.3))\n",
    "\n",
    "model.add(Dense(8, activation='softmax'))\n",
    "\n",
    "optimizer = Adam(lr=0.001)\n",
    "# optimizer = AdamW(lr=0.001, weight_decay=1e-4)\n",
    "model.compile(loss='categorical_crossentropy', optimizer=optimizer, metrics=['accuracy'])\n"
   ]
  },
  {
   "cell_type": "code",
   "execution_count": 11,
   "id": "07ae00ab",
   "metadata": {
    "execution": {
     "iopub.execute_input": "2023-02-04T19:48:36.046394Z",
     "iopub.status.busy": "2023-02-04T19:48:36.044914Z",
     "iopub.status.idle": "2023-02-04T19:48:36.054480Z",
     "shell.execute_reply": "2023-02-04T19:48:36.053373Z"
    },
    "papermill": {
     "duration": 0.018317,
     "end_time": "2023-02-04T19:48:36.056584",
     "exception": false,
     "start_time": "2023-02-04T19:48:36.038267",
     "status": "completed"
    },
    "tags": []
   },
   "outputs": [
    {
     "name": "stdout",
     "output_type": "stream",
     "text": [
      "Model: \"sequential\"\n",
      "_________________________________________________________________\n",
      "Layer (type)                 Output Shape              Param #   \n",
      "=================================================================\n",
      "conv2d (Conv2D)              (None, 98, 98, 64)        640       \n",
      "_________________________________________________________________\n",
      "batch_normalization (BatchNo (None, 98, 98, 64)        256       \n",
      "_________________________________________________________________\n",
      "max_pooling2d (MaxPooling2D) (None, 49, 49, 64)        0         \n",
      "_________________________________________________________________\n",
      "conv2d_1 (Conv2D)            (None, 47, 47, 128)       73856     \n",
      "_________________________________________________________________\n",
      "batch_normalization_1 (Batch (None, 47, 47, 128)       512       \n",
      "_________________________________________________________________\n",
      "max_pooling2d_1 (MaxPooling2 (None, 23, 23, 128)       0         \n",
      "_________________________________________________________________\n",
      "conv2d_2 (Conv2D)            (None, 21, 21, 256)       295168    \n",
      "_________________________________________________________________\n",
      "batch_normalization_2 (Batch (None, 21, 21, 256)       1024      \n",
      "_________________________________________________________________\n",
      "max_pooling2d_2 (MaxPooling2 (None, 10, 10, 256)       0         \n",
      "_________________________________________________________________\n",
      "conv2d_3 (Conv2D)            (None, 8, 8, 512)         1180160   \n",
      "_________________________________________________________________\n",
      "batch_normalization_3 (Batch (None, 8, 8, 512)         2048      \n",
      "_________________________________________________________________\n",
      "max_pooling2d_3 (MaxPooling2 (None, 4, 4, 512)         0         \n",
      "_________________________________________________________________\n",
      "flatten (Flatten)            (None, 8192)              0         \n",
      "_________________________________________________________________\n",
      "dense (Dense)                (None, 1024)              8389632   \n",
      "_________________________________________________________________\n",
      "batch_normalization_4 (Batch (None, 1024)              4096      \n",
      "_________________________________________________________________\n",
      "dropout (Dropout)            (None, 1024)              0         \n",
      "_________________________________________________________________\n",
      "dense_1 (Dense)              (None, 512)               524800    \n",
      "_________________________________________________________________\n",
      "batch_normalization_5 (Batch (None, 512)               2048      \n",
      "_________________________________________________________________\n",
      "dropout_1 (Dropout)          (None, 512)               0         \n",
      "_________________________________________________________________\n",
      "dense_2 (Dense)              (None, 8)                 4104      \n",
      "=================================================================\n",
      "Total params: 10,478,344\n",
      "Trainable params: 10,473,352\n",
      "Non-trainable params: 4,992\n",
      "_________________________________________________________________\n"
     ]
    }
   ],
   "source": [
    "model.summary()"
   ]
  },
  {
   "cell_type": "code",
   "execution_count": 12,
   "id": "38ee2e4a",
   "metadata": {
    "execution": {
     "iopub.execute_input": "2023-02-04T19:48:36.068850Z",
     "iopub.status.busy": "2023-02-04T19:48:36.068578Z",
     "iopub.status.idle": "2023-02-04T19:48:39.575311Z",
     "shell.execute_reply": "2023-02-04T19:48:39.574132Z"
    },
    "papermill": {
     "duration": 3.515586,
     "end_time": "2023-02-04T19:48:39.577717",
     "exception": false,
     "start_time": "2023-02-04T19:48:36.062131",
     "status": "completed"
    },
    "tags": []
   },
   "outputs": [
    {
     "name": "stdout",
     "output_type": "stream",
     "text": [
      "Found 26370 images belonging to 8 classes.\n"
     ]
    }
   ],
   "source": [
    "training_image =image_gen.flow_from_directory(\"wafer/dataset/class\" , \n",
    "                                              target_size=(100,100),batch_size=15,\n",
    "                                              color_mode='grayscale')"
   ]
  },
  {
   "cell_type": "code",
   "execution_count": 13,
   "id": "683d771d",
   "metadata": {
    "execution": {
     "iopub.execute_input": "2023-02-04T19:48:39.591468Z",
     "iopub.status.busy": "2023-02-04T19:48:39.590534Z",
     "iopub.status.idle": "2023-02-04T19:48:40.117149Z",
     "shell.execute_reply": "2023-02-04T19:48:40.116089Z"
    },
    "papermill": {
     "duration": 0.535494,
     "end_time": "2023-02-04T19:48:40.119265",
     "exception": false,
     "start_time": "2023-02-04T19:48:39.583771",
     "status": "completed"
    },
    "tags": []
   },
   "outputs": [
    {
     "name": "stdout",
     "output_type": "stream",
     "text": [
      "Found 1321 images belonging to 8 classes.\n"
     ]
    }
   ],
   "source": [
    "testing_image =image_gen.flow_from_directory(\"wafer/dataset/consistency\" , \n",
    "                                              target_size=(100,100),batch_size=15,\n",
    "                                              color_mode='grayscale')"
   ]
  },
  {
   "cell_type": "code",
   "execution_count": 14,
   "id": "2091e6c4",
   "metadata": {
    "execution": {
     "iopub.execute_input": "2023-02-04T19:48:40.133294Z",
     "iopub.status.busy": "2023-02-04T19:48:40.131840Z",
     "iopub.status.idle": "2023-02-04T22:01:47.273144Z",
     "shell.execute_reply": "2023-02-04T22:01:47.271449Z"
    },
    "papermill": {
     "duration": 7987.151503,
     "end_time": "2023-02-04T22:01:47.276755",
     "exception": false,
     "start_time": "2023-02-04T19:48:40.125252",
     "status": "completed"
    },
    "tags": []
   },
   "outputs": [
    {
     "name": "stdout",
     "output_type": "stream",
     "text": [
      "Epoch 1/100\n",
      "1648/1648 [==============================] - 43s 22ms/step - batch: 823.5000 - size: 15.0000 - loss: 0.9344 - acc: 0.6735 - val_loss: 1.8847 - val_acc: 0.3589\n",
      "Epoch 2/100\n",
      "1648/1648 [==============================] - 31s 19ms/step - batch: 823.5000 - size: 15.0000 - loss: 0.3844 - acc: 0.8712 - val_loss: 2.3030 - val_acc: 0.3633\n",
      "Epoch 3/100\n",
      "1648/1648 [==============================] - 32s 20ms/step - batch: 823.5000 - size: 15.0000 - loss: 0.2829 - acc: 0.9077 - val_loss: 2.4007 - val_acc: 0.4025\n",
      "Epoch 4/100\n",
      "1648/1648 [==============================] - 35s 21ms/step - batch: 823.5000 - size: 15.0000 - loss: 0.2351 - acc: 0.9223 - val_loss: 0.8201 - val_acc: 0.7037\n",
      "Epoch 5/100\n",
      "1648/1648 [==============================] - 35s 22ms/step - batch: 823.5000 - size: 15.0000 - loss: 0.2282 - acc: 0.9271 - val_loss: 4.7712 - val_acc: 0.1728\n",
      "Epoch 6/100\n",
      "1648/1648 [==============================] - 36s 22ms/step - batch: 823.5000 - size: 15.0000 - loss: 0.1746 - acc: 0.9424 - val_loss: 0.4197 - val_acc: 0.8756\n",
      "Epoch 7/100\n",
      "1648/1648 [==============================] - 35s 21ms/step - batch: 823.5000 - size: 15.0000 - loss: 0.1608 - acc: 0.9483 - val_loss: 0.5358 - val_acc: 0.8228\n",
      "Epoch 8/100\n",
      "1648/1648 [==============================] - 34s 20ms/step - batch: 823.5000 - size: 15.0000 - loss: 0.1348 - acc: 0.9584 - val_loss: 5.6005 - val_acc: 0.4497\n",
      "Epoch 9/100\n",
      "1648/1648 [==============================] - 30s 18ms/step - batch: 823.5000 - size: 15.0000 - loss: 0.1333 - acc: 0.9578 - val_loss: 1.4994 - val_acc: 0.6788\n",
      "Epoch 10/100\n",
      "1648/1648 [==============================] - 31s 19ms/step - batch: 823.5000 - size: 15.0000 - loss: 0.1144 - acc: 0.9631 - val_loss: 1.6455 - val_acc: 0.7037\n",
      "Epoch 11/100\n",
      "1648/1648 [==============================] - 30s 18ms/step - batch: 823.5000 - size: 15.0000 - loss: 0.1122 - acc: 0.9633 - val_loss: 1.0686 - val_acc: 0.7021\n",
      "Epoch 12/100\n",
      "1648/1648 [==============================] - 30s 18ms/step - batch: 823.5000 - size: 15.0000 - loss: 0.0960 - acc: 0.9700 - val_loss: 0.7121 - val_acc: 0.7689\n",
      "Epoch 13/100\n",
      "1648/1648 [==============================] - 30s 18ms/step - batch: 823.5000 - size: 15.0000 - loss: 0.0916 - acc: 0.9713 - val_loss: 5.0038 - val_acc: 0.4708\n",
      "Epoch 14/100\n",
      "1648/1648 [==============================] - 30s 18ms/step - batch: 823.5000 - size: 15.0000 - loss: 0.0919 - acc: 0.9706 - val_loss: 7.2538 - val_acc: 0.3504\n",
      "Epoch 15/100\n",
      "1648/1648 [==============================] - 30s 18ms/step - batch: 823.5000 - size: 15.0000 - loss: 0.0792 - acc: 0.9757 - val_loss: 1.2561 - val_acc: 0.6597\n",
      "Epoch 16/100\n",
      "1648/1648 [==============================] - 30s 18ms/step - batch: 823.5000 - size: 15.0000 - loss: 0.0723 - acc: 0.9773 - val_loss: 0.5080 - val_acc: 0.8574\n",
      "Epoch 17/100\n",
      "1648/1648 [==============================] - 32s 20ms/step - batch: 823.5000 - size: 15.0000 - loss: 0.0799 - acc: 0.9742 - val_loss: 67.0182 - val_acc: 0.1350\n",
      "Epoch 18/100\n",
      "1648/1648 [==============================] - 35s 21ms/step - batch: 823.5000 - size: 15.0000 - loss: 0.0761 - acc: 0.9762 - val_loss: 0.4952 - val_acc: 0.8883\n",
      "Epoch 19/100\n",
      "1648/1648 [==============================] - 35s 21ms/step - batch: 823.5000 - size: 15.0000 - loss: 0.0744 - acc: 0.9765 - val_loss: 2.2293 - val_acc: 0.6186\n",
      "Epoch 20/100\n",
      "1648/1648 [==============================] - 35s 21ms/step - batch: 823.5000 - size: 15.0000 - loss: 0.0698 - acc: 0.9774 - val_loss: 34.8453 - val_acc: 0.3329\n",
      "Epoch 21/100\n",
      "1648/1648 [==============================] - 35s 21ms/step - batch: 823.5000 - size: 15.0000 - loss: 0.0604 - acc: 0.9809 - val_loss: 0.7760 - val_acc: 0.7535\n",
      "Epoch 22/100\n",
      "1648/1648 [==============================] - 30s 18ms/step - batch: 823.5000 - size: 15.0000 - loss: 0.0624 - acc: 0.9801 - val_loss: 0.4379 - val_acc: 0.8859\n",
      "Epoch 23/100\n",
      "1648/1648 [==============================] - 30s 18ms/step - batch: 823.5000 - size: 15.0000 - loss: 0.0612 - acc: 0.9809 - val_loss: 1.6029 - val_acc: 0.5655\n",
      "Epoch 24/100\n",
      "1648/1648 [==============================] - 30s 18ms/step - batch: 823.5000 - size: 15.0000 - loss: 0.0608 - acc: 0.9806 - val_loss: 3.8137 - val_acc: 0.3869\n",
      "Epoch 25/100\n",
      "1648/1648 [==============================] - 30s 18ms/step - batch: 823.5000 - size: 15.0000 - loss: 0.0586 - acc: 0.9817 - val_loss: 0.7652 - val_acc: 0.7758\n",
      "Epoch 26/100\n",
      "1648/1648 [==============================] - 30s 18ms/step - batch: 823.5000 - size: 15.0000 - loss: 0.0587 - acc: 0.9807 - val_loss: 0.5817 - val_acc: 0.8288\n",
      "Epoch 27/100\n",
      "1648/1648 [==============================] - 30s 18ms/step - batch: 823.5000 - size: 15.0000 - loss: 0.0557 - acc: 0.9817 - val_loss: 0.9778 - val_acc: 0.7321\n",
      "Epoch 28/100\n",
      "1648/1648 [==============================] - 32s 20ms/step - batch: 823.5000 - size: 15.0000 - loss: 0.0583 - acc: 0.9809 - val_loss: 0.8749 - val_acc: 0.8623\n",
      "Epoch 29/100\n",
      "1648/1648 [==============================] - 37s 22ms/step - batch: 823.5000 - size: 15.0000 - loss: 0.0499 - acc: 0.9839 - val_loss: 0.4774 - val_acc: 0.8626\n",
      "Epoch 30/100\n",
      "1648/1648 [==============================] - 38s 23ms/step - batch: 823.5000 - size: 15.0000 - loss: 0.0532 - acc: 0.9836 - val_loss: 0.6796 - val_acc: 0.7977\n",
      "Epoch 31/100\n",
      "1648/1648 [==============================] - 35s 21ms/step - batch: 823.5000 - size: 15.0000 - loss: 0.0472 - acc: 0.9859 - val_loss: 1.5740 - val_acc: 0.5868\n",
      "Epoch 32/100\n",
      "1648/1648 [==============================] - 37s 22ms/step - batch: 823.5000 - size: 15.0000 - loss: 0.0472 - acc: 0.9853 - val_loss: 0.3342 - val_acc: 0.8920\n",
      "Epoch 33/100\n",
      "1648/1648 [==============================] - 33s 20ms/step - batch: 823.5000 - size: 15.0000 - loss: 0.0524 - acc: 0.9835 - val_loss: 33.7238 - val_acc: 0.4082\n",
      "Epoch 34/100\n",
      "1648/1648 [==============================] - 29s 18ms/step - batch: 823.5000 - size: 15.0000 - loss: 0.0488 - acc: 0.9845 - val_loss: 0.4144 - val_acc: 0.8666\n",
      "Epoch 35/100\n",
      "1648/1648 [==============================] - 30s 18ms/step - batch: 823.5000 - size: 15.0000 - loss: 0.0478 - acc: 0.9851 - val_loss: 2.3995 - val_acc: 0.4934\n",
      "Epoch 36/100\n",
      "1648/1648 [==============================] - 31s 19ms/step - batch: 823.5000 - size: 15.0000 - loss: 0.0456 - acc: 0.9854 - val_loss: 1.8781 - val_acc: 0.6538\n",
      "Epoch 37/100\n",
      "1648/1648 [==============================] - 30s 18ms/step - batch: 823.5000 - size: 15.0000 - loss: 0.0469 - acc: 0.9853 - val_loss: 1.3178 - val_acc: 0.7337\n",
      "Epoch 38/100\n",
      "1648/1648 [==============================] - 30s 18ms/step - batch: 823.5000 - size: 15.0000 - loss: 0.0436 - acc: 0.9862 - val_loss: 41.7499 - val_acc: 0.5801\n",
      "Epoch 39/100\n",
      "1648/1648 [==============================] - 30s 18ms/step - batch: 823.5000 - size: 15.0000 - loss: 0.0393 - acc: 0.9875 - val_loss: 186.4467 - val_acc: 0.7328\n",
      "Epoch 40/100\n",
      "1648/1648 [==============================] - 30s 18ms/step - batch: 823.5000 - size: 15.0000 - loss: 0.0454 - acc: 0.9851 - val_loss: 138.6013 - val_acc: 0.1406\n",
      "Epoch 41/100\n",
      "1648/1648 [==============================] - 30s 18ms/step - batch: 823.5000 - size: 15.0000 - loss: 0.0425 - acc: 0.9869 - val_loss: 3.4817 - val_acc: 0.6594\n",
      "Epoch 42/100\n",
      "1648/1648 [==============================] - 30s 18ms/step - batch: 823.5000 - size: 15.0000 - loss: 0.0385 - acc: 0.9872 - val_loss: 0.6256 - val_acc: 0.7583\n",
      "Epoch 43/100\n",
      "1648/1648 [==============================] - 30s 18ms/step - batch: 823.5000 - size: 15.0000 - loss: 0.0393 - acc: 0.9874 - val_loss: 1.3481 - val_acc: 0.7072\n",
      "Epoch 44/100\n",
      "1648/1648 [==============================] - 30s 18ms/step - batch: 823.5000 - size: 15.0000 - loss: 0.0408 - acc: 0.9881 - val_loss: 0.3724 - val_acc: 0.8852\n",
      "Epoch 45/100\n",
      "1648/1648 [==============================] - 30s 18ms/step - batch: 823.5000 - size: 15.0000 - loss: 0.0418 - acc: 0.9881 - val_loss: 0.3382 - val_acc: 0.9089\n",
      "Epoch 46/100\n",
      "1648/1648 [==============================] - 30s 18ms/step - batch: 823.5000 - size: 15.0000 - loss: 0.0389 - acc: 0.9881 - val_loss: 1.2667 - val_acc: 0.7006\n",
      "Epoch 47/100\n",
      "1648/1648 [==============================] - 32s 19ms/step - batch: 823.5000 - size: 15.0000 - loss: 0.0420 - acc: 0.9874 - val_loss: 1.2411 - val_acc: 0.7403\n",
      "Epoch 48/100\n",
      "1648/1648 [==============================] - 35s 21ms/step - batch: 823.5000 - size: 15.0000 - loss: 0.0406 - acc: 0.9879 - val_loss: 1.4715 - val_acc: 0.8474\n",
      "Epoch 49/100\n",
      "1648/1648 [==============================] - 34s 20ms/step - batch: 823.5000 - size: 15.0000 - loss: 0.0394 - acc: 0.9876 - val_loss: 0.3588 - val_acc: 0.9031\n",
      "Epoch 50/100\n",
      "1648/1648 [==============================] - 30s 18ms/step - batch: 823.5000 - size: 15.0000 - loss: 0.0376 - acc: 0.9885 - val_loss: 0.5447 - val_acc: 0.8549\n",
      "Epoch 51/100\n",
      "1648/1648 [==============================] - 30s 18ms/step - batch: 823.5000 - size: 15.0000 - loss: 0.0378 - acc: 0.9879 - val_loss: 82.1371 - val_acc: 0.5284\n",
      "Epoch 52/100\n",
      "1648/1648 [==============================] - 30s 18ms/step - batch: 823.5000 - size: 15.0000 - loss: 0.0417 - acc: 0.9875 - val_loss: 3.6782 - val_acc: 0.7959\n",
      "Epoch 53/100\n",
      "1648/1648 [==============================] - 31s 19ms/step - batch: 823.5000 - size: 15.0000 - loss: 0.0357 - acc: 0.9882 - val_loss: 0.2590 - val_acc: 0.9190\n",
      "Epoch 54/100\n",
      "1648/1648 [==============================] - 30s 18ms/step - batch: 823.5000 - size: 15.0000 - loss: 0.0365 - acc: 0.9879 - val_loss: 13.0099 - val_acc: 0.3640\n",
      "Epoch 55/100\n",
      "1648/1648 [==============================] - 31s 19ms/step - batch: 823.5000 - size: 15.0000 - loss: 0.0377 - acc: 0.9888 - val_loss: 0.5816 - val_acc: 0.8440\n",
      "Epoch 56/100\n",
      "1648/1648 [==============================] - 30s 18ms/step - batch: 823.5000 - size: 15.0000 - loss: 0.0377 - acc: 0.9890 - val_loss: 256.7576 - val_acc: 0.6333\n",
      "Epoch 57/100\n",
      "1648/1648 [==============================] - 33s 20ms/step - batch: 823.5000 - size: 15.0000 - loss: 0.0309 - acc: 0.9903 - val_loss: 1.1396 - val_acc: 0.7489\n",
      "Epoch 58/100\n",
      "1648/1648 [==============================] - 30s 18ms/step - batch: 823.5000 - size: 15.0000 - loss: 0.0370 - acc: 0.9878 - val_loss: 3.2992 - val_acc: 0.5986\n",
      "Epoch 59/100\n",
      "1648/1648 [==============================] - 32s 20ms/step - batch: 823.5000 - size: 15.0000 - loss: 0.0340 - acc: 0.9897 - val_loss: 166.6651 - val_acc: 0.2078\n",
      "Epoch 60/100\n",
      "1648/1648 [==============================] - 37s 23ms/step - batch: 823.5000 - size: 15.0000 - loss: 0.0338 - acc: 0.9892 - val_loss: 0.4682 - val_acc: 0.8518\n",
      "Epoch 61/100\n",
      "1648/1648 [==============================] - 36s 22ms/step - batch: 823.5000 - size: 15.0000 - loss: 0.0366 - acc: 0.9886 - val_loss: 0.7687 - val_acc: 0.8010\n",
      "Epoch 62/100\n",
      "1648/1648 [==============================] - 35s 21ms/step - batch: 823.5000 - size: 15.0000 - loss: 0.0365 - acc: 0.9888 - val_loss: 38.7088 - val_acc: 0.3144\n",
      "Epoch 63/100\n",
      "1648/1648 [==============================] - 36s 22ms/step - batch: 823.5000 - size: 15.0000 - loss: 0.0419 - acc: 0.9864 - val_loss: 485.8949 - val_acc: 0.7464\n",
      "Epoch 64/100\n",
      "1648/1648 [==============================] - 36s 22ms/step - batch: 823.5000 - size: 15.0000 - loss: 0.0303 - acc: 0.9902 - val_loss: 3.0377 - val_acc: 0.8800\n",
      "Epoch 65/100\n",
      "1648/1648 [==============================] - 37s 22ms/step - batch: 823.5000 - size: 15.0000 - loss: 0.0332 - acc: 0.9896 - val_loss: 0.3527 - val_acc: 0.9090\n",
      "Epoch 66/100\n",
      "1648/1648 [==============================] - 35s 21ms/step - batch: 823.5000 - size: 15.0000 - loss: 0.0334 - acc: 0.9896 - val_loss: 9.7884 - val_acc: 0.8187\n",
      "Epoch 67/100\n",
      "1648/1648 [==============================] - 30s 18ms/step - batch: 823.5000 - size: 15.0000 - loss: 0.0359 - acc: 0.9886 - val_loss: 0.7249 - val_acc: 0.7657\n",
      "Epoch 68/100\n",
      "1648/1648 [==============================] - 30s 18ms/step - batch: 823.5000 - size: 15.0000 - loss: 0.0320 - acc: 0.9898 - val_loss: 0.3717 - val_acc: 0.9018\n",
      "Epoch 69/100\n",
      "1648/1648 [==============================] - 30s 18ms/step - batch: 823.5000 - size: 15.0000 - loss: 0.0387 - acc: 0.9875 - val_loss: 0.4351 - val_acc: 0.8685\n",
      "Epoch 70/100\n",
      "1648/1648 [==============================] - 30s 18ms/step - batch: 823.5000 - size: 15.0000 - loss: 0.0348 - acc: 0.9886 - val_loss: 0.4077 - val_acc: 0.8661\n",
      "Epoch 71/100\n",
      "1648/1648 [==============================] - 30s 18ms/step - batch: 823.5000 - size: 15.0000 - loss: 0.0355 - acc: 0.9893 - val_loss: 0.8539 - val_acc: 0.8655\n",
      "Epoch 72/100\n",
      "1648/1648 [==============================] - 30s 18ms/step - batch: 823.5000 - size: 15.0000 - loss: 0.0310 - acc: 0.9905 - val_loss: 0.3797 - val_acc: 0.8986\n",
      "Epoch 73/100\n",
      "1648/1648 [==============================] - 31s 19ms/step - batch: 823.5000 - size: 15.0000 - loss: 0.0317 - acc: 0.9897 - val_loss: 0.3257 - val_acc: 0.9055\n",
      "Epoch 74/100\n",
      "1648/1648 [==============================] - 35s 21ms/step - batch: 823.5000 - size: 15.0000 - loss: 0.0329 - acc: 0.9897 - val_loss: 0.3589 - val_acc: 0.8986\n",
      "Epoch 75/100\n",
      "1648/1648 [==============================] - 34s 21ms/step - batch: 823.5000 - size: 15.0000 - loss: 0.0325 - acc: 0.9899 - val_loss: 1884.7520 - val_acc: 0.5689\n",
      "Epoch 76/100\n",
      "1648/1648 [==============================] - 34s 21ms/step - batch: 823.5000 - size: 15.0000 - loss: 0.0323 - acc: 0.9894 - val_loss: 0.6223 - val_acc: 0.8670\n",
      "Epoch 77/100\n",
      "1648/1648 [==============================] - 34s 21ms/step - batch: 823.5000 - size: 15.0000 - loss: 0.0370 - acc: 0.9890 - val_loss: 0.7493 - val_acc: 0.8192\n",
      "Epoch 78/100\n",
      "1648/1648 [==============================] - 34s 21ms/step - batch: 823.5000 - size: 15.0000 - loss: 0.0299 - acc: 0.9898 - val_loss: 0.5145 - val_acc: 0.8479\n",
      "Epoch 79/100\n",
      "1648/1648 [==============================] - 34s 21ms/step - batch: 823.5000 - size: 15.0000 - loss: 0.0283 - acc: 0.9905 - val_loss: 1.0566 - val_acc: 0.7602\n",
      "Epoch 80/100\n",
      "1648/1648 [==============================] - 35s 21ms/step - batch: 823.5000 - size: 15.0000 - loss: 0.0327 - acc: 0.9898 - val_loss: 24.8439 - val_acc: 0.6528\n",
      "Epoch 81/100\n",
      "1648/1648 [==============================] - 38s 23ms/step - batch: 823.5000 - size: 15.0000 - loss: 0.0344 - acc: 0.9894 - val_loss: 77.3305 - val_acc: 0.4485\n",
      "Epoch 82/100\n",
      "1648/1648 [==============================] - 38s 23ms/step - batch: 823.5000 - size: 15.0000 - loss: 0.0317 - acc: 0.9907 - val_loss: 5.6107 - val_acc: 0.7870\n",
      "Epoch 83/100\n",
      "1648/1648 [==============================] - 33s 20ms/step - batch: 823.5000 - size: 15.0000 - loss: 0.0307 - acc: 0.9901 - val_loss: 36.0282 - val_acc: 0.7160\n",
      "Epoch 84/100\n",
      "1648/1648 [==============================] - 35s 21ms/step - batch: 823.5000 - size: 15.0000 - loss: 0.0324 - acc: 0.9892 - val_loss: 0.3052 - val_acc: 0.9020\n",
      "Epoch 85/100\n",
      "1648/1648 [==============================] - 36s 22ms/step - batch: 823.5000 - size: 15.0000 - loss: 0.0293 - acc: 0.9897 - val_loss: 53.7753 - val_acc: 0.6965\n",
      "Epoch 86/100\n",
      "1648/1648 [==============================] - 36s 22ms/step - batch: 823.5000 - size: 15.0000 - loss: 0.0368 - acc: 0.9885 - val_loss: 0.7822 - val_acc: 0.8179\n",
      "Epoch 87/100\n",
      "1648/1648 [==============================] - 35s 21ms/step - batch: 823.5000 - size: 15.0000 - loss: 0.0285 - acc: 0.9907 - val_loss: 0.4453 - val_acc: 0.8563\n",
      "Epoch 88/100\n",
      "1648/1648 [==============================] - 36s 22ms/step - batch: 823.5000 - size: 15.0000 - loss: 0.0315 - acc: 0.9900 - val_loss: 182.7107 - val_acc: 0.5031\n",
      "Epoch 89/100\n",
      "1648/1648 [==============================] - 30s 18ms/step - batch: 823.5000 - size: 15.0000 - loss: 0.0287 - acc: 0.9907 - val_loss: 0.8863 - val_acc: 0.7838\n",
      "Epoch 90/100\n",
      "1648/1648 [==============================] - 30s 18ms/step - batch: 823.5000 - size: 15.0000 - loss: 0.0300 - acc: 0.9903 - val_loss: 0.6508 - val_acc: 0.7986\n",
      "Epoch 91/100\n",
      "1648/1648 [==============================] - 34s 21ms/step - batch: 823.5000 - size: 15.0000 - loss: 0.0288 - acc: 0.9909 - val_loss: 0.4277 - val_acc: 0.8779\n",
      "Epoch 92/100\n",
      "1648/1648 [==============================] - 34s 21ms/step - batch: 823.5000 - size: 15.0000 - loss: 0.0313 - acc: 0.9903 - val_loss: 2.9724 - val_acc: 0.4939\n",
      "Epoch 93/100\n",
      "1648/1648 [==============================] - 35s 22ms/step - batch: 823.5000 - size: 15.0000 - loss: 0.0326 - acc: 0.9896 - val_loss: 0.3742 - val_acc: 0.8903\n",
      "Epoch 94/100\n",
      "1648/1648 [==============================] - 34s 21ms/step - batch: 823.5000 - size: 15.0000 - loss: 0.0304 - acc: 0.9907 - val_loss: 0.3089 - val_acc: 0.9179\n",
      "Epoch 95/100\n",
      "1648/1648 [==============================] - 37s 23ms/step - batch: 823.5000 - size: 15.0000 - loss: 0.0308 - acc: 0.9895 - val_loss: 0.4268 - val_acc: 0.8640\n",
      "Epoch 96/100\n",
      "1648/1648 [==============================] - 36s 22ms/step - batch: 823.5000 - size: 15.0000 - loss: 0.0300 - acc: 0.9900 - val_loss: 0.4070 - val_acc: 0.8793\n",
      "Epoch 97/100\n",
      "1648/1648 [==============================] - 31s 19ms/step - batch: 823.5000 - size: 15.0000 - loss: 0.0258 - acc: 0.9920 - val_loss: 0.3512 - val_acc: 0.8973\n",
      "Epoch 98/100\n",
      "1648/1648 [==============================] - 36s 22ms/step - batch: 823.5000 - size: 15.0000 - loss: 0.0309 - acc: 0.9896 - val_loss: 0.3316 - val_acc: 0.9035\n",
      "Epoch 99/100\n",
      "1648/1648 [==============================] - 30s 18ms/step - batch: 823.5000 - size: 15.0000 - loss: 0.0333 - acc: 0.9898 - val_loss: 1.0256 - val_acc: 0.7500\n",
      "Epoch 100/100\n",
      "1648/1648 [==============================] - 30s 18ms/step - batch: 823.5000 - size: 15.0000 - loss: 0.0279 - acc: 0.9908 - val_loss: 0.4381 - val_acc: 0.8698\n"
     ]
    }
   ],
   "source": [
    "steps_per_epoch = 26370//16\n",
    "validation_steps =26370//16\n",
    "\n",
    "\n",
    "from tensorflow.keras.callbacks import ModelCheckpoint\n",
    "\n",
    "filename = 'model/checkpoint-epoch-{epoch:02d}-val_acc-{val_acc:.4f}.h5'\n",
    "model_checkpoint = ModelCheckpoint(filename, save_best_only=True, monitor='val_acc', mode='max',verbose=0)\n",
    "\n",
    "history = model.fit_generator(generator=training_image,\n",
    "                              steps_per_epoch=steps_per_epoch,\n",
    "                              epochs=100,\n",
    "                              validation_data=testing_image,\n",
    "                              validation_steps=validation_steps,\n",
    "                              callbacks=[model_checkpoint])\n",
    "\n"
   ]
  },
  {
   "cell_type": "code",
   "execution_count": 15,
   "id": "14f81597",
   "metadata": {
    "execution": {
     "iopub.execute_input": "2023-02-04T22:01:52.315318Z",
     "iopub.status.busy": "2023-02-04T22:01:52.314952Z",
     "iopub.status.idle": "2023-02-04T22:01:52.319557Z",
     "shell.execute_reply": "2023-02-04T22:01:52.318596Z"
    },
    "papermill": {
     "duration": 2.412649,
     "end_time": "2023-02-04T22:01:52.321636",
     "exception": false,
     "start_time": "2023-02-04T22:01:49.908987",
     "status": "completed"
    },
    "tags": []
   },
   "outputs": [],
   "source": [
    "# model.save(\"AdamW.h5\")\n",
    "pd.options.display.float_format = '{:7f}'.format"
   ]
  },
  {
   "cell_type": "code",
   "execution_count": 16,
   "id": "c54b2543",
   "metadata": {
    "execution": {
     "iopub.execute_input": "2023-02-04T22:01:57.197383Z",
     "iopub.status.busy": "2023-02-04T22:01:57.196998Z",
     "iopub.status.idle": "2023-02-04T22:01:57.206172Z",
     "shell.execute_reply": "2023-02-04T22:01:57.205232Z"
    },
    "papermill": {
     "duration": 2.431389,
     "end_time": "2023-02-04T22:01:57.208310",
     "exception": false,
     "start_time": "2023-02-04T22:01:54.776921",
     "status": "completed"
    },
    "tags": []
   },
   "outputs": [],
   "source": [
    "# def processing(path):\n",
    "#     img = cv2.imread(path)\n",
    "#     print(img.shape)\n",
    "#     plt.imshow(img)\n",
    "#     test1_proc = image.load_img(path , target_size=(100,100))\n",
    "#     test1_proc_1 = image.img_to_array(test1_proc)\n",
    "#     t1 = np.expand_dims(test1_proc ,axis=0)\n",
    "#     t1 = t1/255\n",
    "#     pred_classes = model.predict(t1)\n",
    "#     pred = np.argmax(pred_classes ,axis=1)\n",
    "\n",
    "#     plt.subplot(121)\n",
    "#     pic = Image.open(path) \n",
    "#     plt.xlabel(\"Original Image\")\n",
    "#     plt.imshow(pic)\n",
    "    \n",
    "    \n",
    "#     plt.subplot(122)\n",
    "    \n",
    "#     s1 = pd.Series(pred_classes.ravel() , index = training_image.class_indices.keys())\n",
    "#     s1.plot(kind = 'barh' ,figsize = (10,5),color='green')\n",
    "#     plt.xlabel(\"prediction\")\n",
    "#     plt.tight_layout()\n",
    "#     plt.show()\n",
    "\n",
    "#     for i in training_image.class_indices:\n",
    "#         if pred == training_image.class_indices[i]:\n",
    "#             print(\"prediction made by model is :\" ,i)\n",
    "            \n",
    "            \n",
    "    \n",
    "    \n",
    "#     print(s1)\n",
    "#     print(type(s1))\n"
   ]
  },
  {
   "cell_type": "code",
   "execution_count": 17,
   "id": "10402824",
   "metadata": {},
   "outputs": [],
   "source": [
    "def processing(path):\n",
    "    img = cv2.imread(path, cv2.IMREAD_GRAYSCALE)\n",
    "    img = np.expand_dims(img, axis=-1)  # 이미지 데이터에 채널 차원 추가\n",
    "\n",
    "    # plt.imshow(img, cmap='gray')\n",
    "\n",
    "    test1_proc = image.load_img(path, color_mode='grayscale', target_size=(100, 100))\n",
    "    test1_proc_1 = image.img_to_array(test1_proc)\n",
    "    t1 = np.expand_dims(test1_proc_1, axis=0)\n",
    "    t1 = t1 / 255\n",
    "    pred_classes = model.predict(t1)\n",
    "    pred = np.argmax(pred_classes, axis=1)\n",
    "\n",
    "    original_label = os.path.basename(os.path.dirname(path))\n",
    "    \n",
    "    # plt.subplot(121)\n",
    "    # pic = Image.open(path)\n",
    "    # plt.xlabel(\"Original Image : \" + original_label)\n",
    "    # # plt.imshow(pic, cmap='jet')\n",
    "    # color='deepskyblue'\n",
    "    # plt.subplot(122)\n",
    "    # s1 = pd.Series(pred_classes.ravel(), index=training_image.class_indices.keys())\n",
    "    # s1.plot(kind='barh', figsize=(10, 5), color=color)\n",
    "    # a1=s1.plot(kind='barh', figsize=(10, 5), color=color)\n",
    "\n",
    "    # for p in a1.patches:\n",
    "    #     left, bottom, width, height = p.get_bbox().bounds\n",
    "    #     percentage = width * 100\n",
    "    #     if percentage > 0.2:  # 그래프 수치가 0보다 클 때만 표시\n",
    "    #         a1.annotate(\"%.1f\" % percentage, xy=(left + width / 2, bottom + height / 2), ha='center', va='center')\n",
    "\n",
    "\n",
    "    # plt.xlabel(\"prediction\")\n",
    "    # plt.tight_layout()\n",
    "    # plt.show()\n",
    "\n",
    "    predicted_label = list(training_image.class_indices.keys())[pred[0]]\n",
    "\n",
    "\n",
    "\n",
    "    # for i in training_image.class_indices:\n",
    "    #     if pred == training_image.class_indices[i]:\n",
    "    #         print(\"prediction made by model is:\", i)\n",
    "\n",
    "    # print(s1)\n",
    "    # print(type(s1))\n",
    "    \n",
    "    return predicted_label\n"
   ]
  },
  {
   "cell_type": "code",
   "execution_count": 18,
   "id": "50b659c9",
   "metadata": {
    "execution": {
     "iopub.execute_input": "2023-02-04T22:02:02.211050Z",
     "iopub.status.busy": "2023-02-04T22:02:02.210686Z",
     "iopub.status.idle": "2023-02-04T22:02:02.798388Z",
     "shell.execute_reply": "2023-02-04T22:02:02.797487Z"
    },
    "papermill": {
     "duration": 2.96385,
     "end_time": "2023-02-04T22:02:02.803752",
     "exception": false,
     "start_time": "2023-02-04T22:01:59.839902",
     "status": "completed"
    },
    "tags": []
   },
   "outputs": [
    {
     "data": {
      "text/plain": [
       "'unprocessed'"
      ]
     },
     "execution_count": 18,
     "metadata": {},
     "output_type": "execute_result"
    }
   ],
   "source": [
    "processing(\"wafer/dataset/consistency/unprocessed/non_through_220.bmp\")"
   ]
  },
  {
   "cell_type": "code",
   "execution_count": null,
   "id": "1b236024",
   "metadata": {},
   "outputs": [],
   "source": []
  },
  {
   "cell_type": "code",
   "execution_count": 19,
   "id": "ebd68b2f",
   "metadata": {},
   "outputs": [],
   "source": [
    "# processing(\"wafer/dataset/consistency/foreign_material_floating/2_15287.bmp\")"
   ]
  },
  {
   "cell_type": "code",
   "execution_count": 20,
   "id": "1bb98b9f",
   "metadata": {
    "execution": {
     "iopub.execute_input": "2023-02-04T22:02:07.515825Z",
     "iopub.status.busy": "2023-02-04T22:02:07.515473Z",
     "iopub.status.idle": "2023-02-04T22:02:07.896579Z",
     "shell.execute_reply": "2023-02-04T22:02:07.895642Z"
    },
    "papermill": {
     "duration": 2.740386,
     "end_time": "2023-02-04T22:02:07.900899",
     "exception": false,
     "start_time": "2023-02-04T22:02:05.160513",
     "status": "completed"
    },
    "tags": []
   },
   "outputs": [],
   "source": [
    "# processing(\"wafer/dataset/consistency/abnormal_form_shape_error/abnormal_form_shape_error_2037.bmp\")\n"
   ]
  },
  {
   "cell_type": "code",
   "execution_count": 21,
   "id": "bde2df0d",
   "metadata": {},
   "outputs": [],
   "source": [
    "# processing(\"wafer/dataset/consistency/abnormal_form_hump/abnormal_form_hump_3518.bmp\")"
   ]
  },
  {
   "cell_type": "code",
   "execution_count": 22,
   "id": "b873b267",
   "metadata": {
    "execution": {
     "iopub.execute_input": "2023-02-04T22:02:23.959732Z",
     "iopub.status.busy": "2023-02-04T22:02:23.959361Z",
     "iopub.status.idle": "2023-02-04T22:02:24.345135Z",
     "shell.execute_reply": "2023-02-04T22:02:24.344232Z"
    },
    "papermill": {
     "duration": 2.847619,
     "end_time": "2023-02-04T22:02:24.347171",
     "exception": false,
     "start_time": "2023-02-04T22:02:21.499552",
     "status": "completed"
    },
    "tags": []
   },
   "outputs": [
    {
     "data": {
      "image/png": "[encoded data removed]",
      "text/plain": [
       "<Figure size 640x480 with 1 Axes>"
      ]
     },
     "metadata": {},
     "output_type": "display_data"
    },
    {
     "data": {
      "image/png": "[encoded data removed]",
      "text/plain": [
       "<Figure size 640x480 with 1 Axes>"
      ]
     },
     "metadata": {},
     "output_type": "display_data"
    }
   ],
   "source": [
    "plt.plot(history.history['acc'])\n",
    "plt.plot(history.history['val_acc'])\n",
    "plt.title('Model acc')\n",
    "plt.ylabel('Accuracy')\n",
    "plt.xlabel('Epoch')\n",
    "plt.legend(['Train', 'Test'], loc='upper left')\n",
    "plt.show()\n",
    "\n",
    "plt.plot(history.history['loss'])\n",
    "plt.plot(history.history['val_loss'])\n",
    "plt.title('Model loss')\n",
    "plt.ylabel('Loss')\n",
    "plt.xlabel('Epoch')\n",
    "plt.legend(['Train', 'Test'], loc='upper left')\n",
    "plt.show()"
   ]
  },
  {
   "cell_type": "code",
   "execution_count": 35,
   "id": "32831d63",
   "metadata": {},
   "outputs": [
    {
     "name": "stdout",
     "output_type": "stream",
     "text": [
      "wafercopy/dataset/consistency\\unprocessed\n",
      "원래 레이블과 일치하는 이미지 수: 100/100\n",
      "일치 비율: 100.00%\n"
     ]
    }
   ],
   "source": [
    "#원래 코드\n",
    "\n",
    "import os\n",
    "import random\n",
    "\n",
    "# 디렉토리에서 무작위로 폴더 선택\n",
    "validation_data_dir = 'wafercopy/dataset/consistency'  # 검증 데이터 폴더의 경로로 변경\n",
    "selected_folder = random.choice(os.listdir(validation_data_dir))\n",
    "folder_path = os.path.join(validation_data_dir, selected_folder)\n",
    "print(folder_path)\n",
    "\n",
    "# 폴더에서 모든 이미지 파일 가져오기\n",
    "image_files = [f for f in os.listdir(folder_path) if f.endswith(\".bmp\")]\n",
    "\n",
    "# 100개의 이미지를 무작위로 선택\n",
    "selected_images = random.sample(image_files, 100)\n",
    "\n",
    "# 선택한 이미지들을 처리하고 예측하기\n",
    "correct_predictions = 0\n",
    "\n",
    "for image_file in selected_images:\n",
    "    image_path = os.path.join(folder_path, image_file)\n",
    "    \n",
    "    # 예측 실행\n",
    "    processing(image_path)  # 이미지 처리 및 예측\n",
    "\n",
    "    # 원래 레이블과 비교\n",
    "    original_label = os.path.basename(selected_folder)\n",
    "    predicted_label =  processing(image_path)\n",
    "    \n",
    "    if original_label == predicted_label:\n",
    "        correct_predictions += 1\n",
    "\n",
    "# 일치 비율 계산\n",
    "total_images = len(selected_images)\n",
    "accuracy = (correct_predictions / total_images) * 100\n",
    "print(f\"원래 레이블과 일치하는 이미지 수: {correct_predictions}/{total_images}\")\n",
    "print(f\"일치 비율: {accuracy:.2f}%\")"
   ]
  },
  {
   "cell_type": "code",
   "execution_count": 24,
   "id": "9207c28d",
   "metadata": {},
   "outputs": [],
   "source": [
    "# import os\n",
    "# import random\n",
    "\n",
    "# # 디렉토리에서 무작위로 폴더 선택\n",
    "# validation_data_dir = 'wafercopy/dataset/consistency'  # 검증 데이터 폴더의 경로로 변경\n",
    "# selected_folder = random.choice(os.listdir(validation_data_dir))\n",
    "# folder_path = os.path.join(validation_data_dir, selected_folder)\n",
    "# print(folder_path)\n",
    "\n",
    "\n",
    "# validation_data_dir = 'wafercopy/dataset/consistency'  # 검증 데이터 폴더의 경로로 변경\n",
    "# folders = os.listdir(validation_data_dir)\n",
    "\n",
    "# for selected_folder in folders:\n",
    "#     folder_path = os.path.join(validation_data_dir, selected_folder)\n",
    "#     print(folder_path)\n",
    "\n",
    "# # 폴더에서 모든 이미지 파일 가져오기\n",
    "# image_files = [f for f in os.listdir(folder_path) if f.endswith(\".bmp\")]\n",
    "\n",
    "# # 100개의 이미지를 무작위로 선택\n",
    "# selected_images = random.sample(image_files, 100)\n",
    "\n",
    "# # 선택한 이미지들을 처리하고 예측하기\n",
    "# correct_predictions = 0\n",
    "\n",
    "\n",
    "# for image_file in selected_images:\n",
    "#     image_path = os.path.join(folder_path, image_file)\n",
    "    \n",
    "#     # 예측 실행\n",
    "#     processing(image_path)  # 이미지 처리 및 예측\n",
    "    \n",
    "#     # 원래 레이블과 비교\n",
    "#     original_label = os.path.basename(selected_folder)\n",
    "#     predicted_label =  processing(image_path)\n",
    "    \n",
    "#     if original_label == predicted_label:\n",
    "#         correct_predictions += 1\n",
    "\n",
    "# # 일치 비율 계산\n",
    "# total_images = len(selected_images)\n",
    "# accuracy = (correct_predictions / total_images) * 100\n",
    "# print(f\"원래 레이블과 일치하는 이미지 수: {correct_predictions}/{total_images}\")\n",
    "# print(f\"일치 비율: {accuracy:.2f}%\")\n"
   ]
  }
 ],
 "metadata": {
  "kernelspec": {
   "display_name": "test3.7",
   "language": "python",
   "name": "python3"
  },
  "language_info": {
   "codemirror_mode": {
    "name": "ipython",
    "version": 3
   },
   "file_extension": ".py",
   "mimetype": "text/x-python",
   "name": "python",
   "nbconvert_exporter": "python",
   "pygments_lexer": "ipython3",
   "version": "3.7.16"
  },
  "papermill": {
   "default_parameters": {},
   "duration": 8082.118901,
   "end_time": "2023-02-04T22:02:44.730917",
   "environment_variables": {},
   "exception": null,
   "input_path": "__notebook__.ipynb",
   "output_path": "__notebook__.ipynb",
   "parameters": {},
   "start_time": "2023-02-04T19:48:02.612016",
   "version": "2.3.4"
  },
  "vscode": {
   "interpreter": {
    "hash": "0fb79274e6fc70a7fbc889e06b9471ea0b5b2422b84ed2fccb81878f333629a8"
   }
  }
 },
 "nbformat": 4,
 "nbformat_minor": 5
}
