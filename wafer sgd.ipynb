{
 "cells": [
  {
   "attachments": {},
   "cell_type": "markdown",
   "id": "ad6fa978",
   "metadata": {
    "papermill": {
     "duration": 0.006128,
     "end_time": "2023-02-04T19:48:10.321028",
     "exception": false,
     "start_time": "2023-02-04T19:48:10.314900",
     "status": "completed"
    },
    "tags": []
   },
   "source": [
    "# Image Classification using Keras"
   ]
  },
  {
   "cell_type": "code",
   "execution_count": 1,
   "id": "2b487355",
   "metadata": {},
   "outputs": [],
   "source": [
    "import os; os.environ[\"TF_KERAS\"]='1'"
   ]
  },
  {
   "cell_type": "code",
   "execution_count": 2,
   "id": "2ea679e0",
   "metadata": {
    "execution": {
     "iopub.execute_input": "2023-02-04T19:48:10.377534Z",
     "iopub.status.busy": "2023-02-04T19:48:10.377130Z",
     "iopub.status.idle": "2023-02-04T19:48:15.723859Z",
     "shell.execute_reply": "2023-02-04T19:48:15.722865Z"
    },
    "papermill": {
     "duration": 5.359846,
     "end_time": "2023-02-04T19:48:15.726491",
     "exception": false,
     "start_time": "2023-02-04T19:48:10.366645",
     "status": "completed"
    },
    "tags": []
   },
   "outputs": [
    {
     "name": "stdout",
     "output_type": "stream",
     "text": [
      "WARNING:tensorflow:From c:\\Users\\USER\\.conda\\envs\\test3.7\\lib\\site-packages\\tensorflow\\python\\compat\\v2_compat.py:101: disable_resource_variables (from tensorflow.python.ops.variable_scope) is deprecated and will be removed in a future version.\n",
      "Instructions for updating:\n",
      "non-resource variables are not supported in the long term\n"
     ]
    }
   ],
   "source": [
    "\n",
    "import numpy as np\n",
    "import matplotlib.pyplot as plt\n",
    "from keras.preprocessing.image import ImageDataGenerator\n",
    "import cv2\n",
    "import tensorflow.compat.v1 as tf\n",
    "import os\n",
    "os.environ['CUDA_VISIBLE_DEVICES'] = '0' ## 초기화할 GPU number\n",
    "tf.disable_v2_behavior()\n",
    "import warnings\n",
    "warnings.filterwarnings('ignore')\n",
    "from keras.models import load_model\n",
    "from keras.preprocessing import image\n",
    "from tensorflow.keras.models import Sequential\n",
    "from tensorflow.keras.layers import Conv2D, MaxPooling2D, Flatten, Dense, Dropout, BatchNormalization\n",
    "from tensorflow.keras.optimizers import Adam\n",
    "from keras_adamw import AdamW\n",
    "from PIL import Image\n",
    "import pandas as pd\n",
    "import warnings\n",
    "warnings.filterwarnings('ignore')\n",
    "from tensorflow.keras.optimizers import SGD\n"
   ]
  },
  {
   "cell_type": "code",
   "execution_count": 3,
   "id": "6cd3a22d",
   "metadata": {},
   "outputs": [],
   "source": [
    "# print(keras.__version__)"
   ]
  },
  {
   "cell_type": "code",
   "execution_count": 4,
   "id": "eec92640",
   "metadata": {
    "execution": {
     "iopub.execute_input": "2023-02-04T19:48:15.738987Z",
     "iopub.status.busy": "2023-02-04T19:48:15.738361Z",
     "iopub.status.idle": "2023-02-04T19:48:15.743367Z",
     "shell.execute_reply": "2023-02-04T19:48:15.742465Z"
    },
    "papermill": {
     "duration": 0.013548,
     "end_time": "2023-02-04T19:48:15.745407",
     "exception": false,
     "start_time": "2023-02-04T19:48:15.731859",
     "status": "completed"
    },
    "tags": []
   },
   "outputs": [],
   "source": [
    "image_gen = ImageDataGenerator(rotation_range=25,\n",
    "                              width_shift_range=0.1,\n",
    "                              height_shift_range=0.1,rescale=1/255,shear_range=0.2,\n",
    "                              zoom_range=0.2,horizontal_flip=True,fill_mode='nearest')"
   ]
  },
  {
   "cell_type": "code",
   "execution_count": 5,
   "id": "8b7bc8f4",
   "metadata": {
    "execution": {
     "iopub.execute_input": "2023-02-04T19:48:15.756404Z",
     "iopub.status.busy": "2023-02-04T19:48:15.756113Z",
     "iopub.status.idle": "2023-02-04T19:48:15.760200Z",
     "shell.execute_reply": "2023-02-04T19:48:15.759277Z"
    },
    "papermill": {
     "duration": 0.011627,
     "end_time": "2023-02-04T19:48:15.762114",
     "exception": false,
     "start_time": "2023-02-04T19:48:15.750487",
     "status": "completed"
    },
    "tags": []
   },
   "outputs": [],
   "source": [
    "path = \"wafer/dataset/class/abnormal_form_donut/abnormal_form_donut_2.bmp\""
   ]
  },
  {
   "cell_type": "code",
   "execution_count": 6,
   "id": "b0fb57de",
   "metadata": {
    "execution": {
     "iopub.execute_input": "2023-02-04T19:48:15.772928Z",
     "iopub.status.busy": "2023-02-04T19:48:15.772646Z",
     "iopub.status.idle": "2023-02-04T19:48:15.777391Z",
     "shell.execute_reply": "2023-02-04T19:48:15.776459Z"
    },
    "papermill": {
     "duration": 0.012336,
     "end_time": "2023-02-04T19:48:15.779257",
     "exception": false,
     "start_time": "2023-02-04T19:48:15.766921",
     "status": "completed"
    },
    "tags": []
   },
   "outputs": [],
   "source": [
    "def display_img(path):\n",
    "    plt.figure(figsize=(2,2))\n",
    "    read = cv2.imread(path)\n",
    "    # read_cvt = cv2.cvtColor(read ,cv2.COLOR_BGR2RGB)\n",
    "    # read_cvt = cv2.cvtColor(read)\n",
    "    print(read.shape)\n",
    "    plt.imshow(read)\n",
    "    plt.show()"
   ]
  },
  {
   "cell_type": "code",
   "execution_count": 7,
   "id": "0f0af0ab",
   "metadata": {
    "execution": {
     "iopub.execute_input": "2023-02-04T19:48:15.791005Z",
     "iopub.status.busy": "2023-02-04T19:48:15.789647Z",
     "iopub.status.idle": "2023-02-04T19:48:16.004078Z",
     "shell.execute_reply": "2023-02-04T19:48:16.003005Z"
    },
    "papermill": {
     "duration": 0.222264,
     "end_time": "2023-02-04T19:48:16.006316",
     "exception": false,
     "start_time": "2023-02-04T19:48:15.784052",
     "status": "completed"
    },
    "tags": []
   },
   "outputs": [
    {
     "name": "stdout",
     "output_type": "stream",
     "text": [
      "(100, 100, 3)\n"
     ]
    },
    {
     "data": {
      "image/png": "[encoded data removed]",
      "text/plain": [
       "<Figure size 200x200 with 1 Axes>"
      ]
     },
     "metadata": {},
     "output_type": "display_data"
    }
   ],
   "source": [
    "display_img(path)"
   ]
  },
  {
   "cell_type": "code",
   "execution_count": 8,
   "id": "d6aec05c",
   "metadata": {
    "execution": {
     "iopub.execute_input": "2023-02-04T19:48:16.019320Z",
     "iopub.status.busy": "2023-02-04T19:48:16.017922Z",
     "iopub.status.idle": "2023-02-04T19:48:32.674139Z",
     "shell.execute_reply": "2023-02-04T19:48:32.672997Z"
    },
    "papermill": {
     "duration": 16.66577,
     "end_time": "2023-02-04T19:48:32.677605",
     "exception": false,
     "start_time": "2023-02-04T19:48:16.011835",
     "status": "completed"
    },
    "tags": []
   },
   "outputs": [
    {
     "name": "stdout",
     "output_type": "stream",
     "text": [
      "Found 26370 images belonging to 8 classes.\n"
     ]
    },
    {
     "data": {
      "text/plain": [
       "<keras.preprocessing.image.DirectoryIterator at 0x19b63c49e08>"
      ]
     },
     "execution_count": 8,
     "metadata": {},
     "output_type": "execute_result"
    }
   ],
   "source": [
    "image_gen.flow_from_directory(\"wafer/dataset/class\")"
   ]
  },
  {
   "cell_type": "code",
   "execution_count": 9,
   "id": "79c953e5",
   "metadata": {
    "execution": {
     "iopub.execute_input": "2023-02-04T19:48:32.690898Z",
     "iopub.status.busy": "2023-02-04T19:48:32.689893Z",
     "iopub.status.idle": "2023-02-04T19:48:35.701559Z",
     "shell.execute_reply": "2023-02-04T19:48:35.700573Z"
    },
    "papermill": {
     "duration": 3.020123,
     "end_time": "2023-02-04T19:48:35.703644",
     "exception": false,
     "start_time": "2023-02-04T19:48:32.683521",
     "status": "completed"
    },
    "tags": []
   },
   "outputs": [],
   "source": [
    "model = Sequential()"
   ]
  },
  {
   "cell_type": "code",
   "execution_count": 10,
   "id": "04d5a682",
   "metadata": {
    "execution": {
     "iopub.execute_input": "2023-02-04T19:48:35.717575Z",
     "iopub.status.busy": "2023-02-04T19:48:35.717240Z",
     "iopub.status.idle": "2023-02-04T19:48:36.029989Z",
     "shell.execute_reply": "2023-02-04T19:48:36.029027Z"
    },
    "papermill": {
     "duration": 0.322952,
     "end_time": "2023-02-04T19:48:36.032564",
     "exception": false,
     "start_time": "2023-02-04T19:48:35.709612",
     "status": "completed"
    },
    "tags": []
   },
   "outputs": [
    {
     "name": "stdout",
     "output_type": "stream",
     "text": [
      "WARNING:tensorflow:From c:\\Users\\USER\\.conda\\envs\\test3.7\\lib\\site-packages\\keras\\layers\\normalization\\batch_normalization.py:520: _colocate_with (from tensorflow.python.framework.ops) is deprecated and will be removed in a future version.\n",
      "Instructions for updating:\n",
      "Colocations handled automatically by placer.\n"
     ]
    }
   ],
   "source": [
    "model.add(Conv2D(filters=64, kernel_size=(3,3), activation='relu', input_shape=(100, 100, 1)))\n",
    "model.add(BatchNormalization())\n",
    "model.add(MaxPooling2D(pool_size=(2,2)))\n",
    "\n",
    "model.add(Conv2D(filters=128, kernel_size=(3,3), activation='relu'))\n",
    "model.add(BatchNormalization())\n",
    "model.add(MaxPooling2D(pool_size=(2,2)))\n",
    "\n",
    "model.add(Conv2D(filters=256, kernel_size=(3,3), activation='relu'))\n",
    "model.add(BatchNormalization())\n",
    "model.add(MaxPooling2D(pool_size=(2,2)))\n",
    "\n",
    "model.add(Conv2D(filters=512, kernel_size=(3,3), activation='relu'))\n",
    "model.add(BatchNormalization())\n",
    "model.add(MaxPooling2D(pool_size=(2,2)))\n",
    "\n",
    "model.add(Flatten())\n",
    "\n",
    "model.add(Dense(1024, activation='relu'))\n",
    "model.add(BatchNormalization())\n",
    "model.add(Dropout(0.5))\n",
    "\n",
    "model.add(Dense(512, activation='relu'))\n",
    "model.add(BatchNormalization())\n",
    "model.add(Dropout(0.3))\n",
    "\n",
    "model.add(Dense(8, activation='softmax'))\n",
    "\n",
    "optimizer = SGD(lr=0.001, momentum=0.9)  # momentum 값은 적절히 조절하여 사용\n",
    "# optimizer = AdamW(lr=0.001, weight_decay=1e-4)\n",
    "model.compile(loss='categorical_crossentropy', optimizer=optimizer, metrics=['accuracy'])\n"
   ]
  },
  {
   "cell_type": "code",
   "execution_count": 11,
   "id": "07ae00ab",
   "metadata": {
    "execution": {
     "iopub.execute_input": "2023-02-04T19:48:36.046394Z",
     "iopub.status.busy": "2023-02-04T19:48:36.044914Z",
     "iopub.status.idle": "2023-02-04T19:48:36.054480Z",
     "shell.execute_reply": "2023-02-04T19:48:36.053373Z"
    },
    "papermill": {
     "duration": 0.018317,
     "end_time": "2023-02-04T19:48:36.056584",
     "exception": false,
     "start_time": "2023-02-04T19:48:36.038267",
     "status": "completed"
    },
    "tags": []
   },
   "outputs": [
    {
     "name": "stdout",
     "output_type": "stream",
     "text": [
      "Model: \"sequential\"\n",
      "_________________________________________________________________\n",
      "Layer (type)                 Output Shape              Param #   \n",
      "=================================================================\n",
      "conv2d (Conv2D)              (None, 98, 98, 64)        640       \n",
      "_________________________________________________________________\n",
      "batch_normalization (BatchNo (None, 98, 98, 64)        256       \n",
      "_________________________________________________________________\n",
      "max_pooling2d (MaxPooling2D) (None, 49, 49, 64)        0         \n",
      "_________________________________________________________________\n",
      "conv2d_1 (Conv2D)            (None, 47, 47, 128)       73856     \n",
      "_________________________________________________________________\n",
      "batch_normalization_1 (Batch (None, 47, 47, 128)       512       \n",
      "_________________________________________________________________\n",
      "max_pooling2d_1 (MaxPooling2 (None, 23, 23, 128)       0         \n",
      "_________________________________________________________________\n",
      "conv2d_2 (Conv2D)            (None, 21, 21, 256)       295168    \n",
      "_________________________________________________________________\n",
      "batch_normalization_2 (Batch (None, 21, 21, 256)       1024      \n",
      "_________________________________________________________________\n",
      "max_pooling2d_2 (MaxPooling2 (None, 10, 10, 256)       0         \n",
      "_________________________________________________________________\n",
      "conv2d_3 (Conv2D)            (None, 8, 8, 512)         1180160   \n",
      "_________________________________________________________________\n",
      "batch_normalization_3 (Batch (None, 8, 8, 512)         2048      \n",
      "_________________________________________________________________\n",
      "max_pooling2d_3 (MaxPooling2 (None, 4, 4, 512)         0         \n",
      "_________________________________________________________________\n",
      "flatten (Flatten)            (None, 8192)              0         \n",
      "_________________________________________________________________\n",
      "dense (Dense)                (None, 1024)              8389632   \n",
      "_________________________________________________________________\n",
      "batch_normalization_4 (Batch (None, 1024)              4096      \n",
      "_________________________________________________________________\n",
      "dropout (Dropout)            (None, 1024)              0         \n",
      "_________________________________________________________________\n",
      "dense_1 (Dense)              (None, 512)               524800    \n",
      "_________________________________________________________________\n",
      "batch_normalization_5 (Batch (None, 512)               2048      \n",
      "_________________________________________________________________\n",
      "dropout_1 (Dropout)          (None, 512)               0         \n",
      "_________________________________________________________________\n",
      "dense_2 (Dense)              (None, 8)                 4104      \n",
      "=================================================================\n",
      "Total params: 10,478,344\n",
      "Trainable params: 10,473,352\n",
      "Non-trainable params: 4,992\n",
      "_________________________________________________________________\n"
     ]
    }
   ],
   "source": [
    "model.summary()"
   ]
  },
  {
   "cell_type": "code",
   "execution_count": 12,
   "id": "38ee2e4a",
   "metadata": {
    "execution": {
     "iopub.execute_input": "2023-02-04T19:48:36.068850Z",
     "iopub.status.busy": "2023-02-04T19:48:36.068578Z",
     "iopub.status.idle": "2023-02-04T19:48:39.575311Z",
     "shell.execute_reply": "2023-02-04T19:48:39.574132Z"
    },
    "papermill": {
     "duration": 3.515586,
     "end_time": "2023-02-04T19:48:39.577717",
     "exception": false,
     "start_time": "2023-02-04T19:48:36.062131",
     "status": "completed"
    },
    "tags": []
   },
   "outputs": [
    {
     "name": "stdout",
     "output_type": "stream",
     "text": [
      "Found 26370 images belonging to 8 classes.\n"
     ]
    }
   ],
   "source": [
    "training_image =image_gen.flow_from_directory(\"wafer/dataset/class\" , \n",
    "                                              target_size=(100,100),batch_size=15,\n",
    "                                              color_mode='grayscale')"
   ]
  },
  {
   "cell_type": "code",
   "execution_count": 13,
   "id": "683d771d",
   "metadata": {
    "execution": {
     "iopub.execute_input": "2023-02-04T19:48:39.591468Z",
     "iopub.status.busy": "2023-02-04T19:48:39.590534Z",
     "iopub.status.idle": "2023-02-04T19:48:40.117149Z",
     "shell.execute_reply": "2023-02-04T19:48:40.116089Z"
    },
    "papermill": {
     "duration": 0.535494,
     "end_time": "2023-02-04T19:48:40.119265",
     "exception": false,
     "start_time": "2023-02-04T19:48:39.583771",
     "status": "completed"
    },
    "tags": []
   },
   "outputs": [
    {
     "name": "stdout",
     "output_type": "stream",
     "text": [
      "Found 1321 images belonging to 8 classes.\n"
     ]
    }
   ],
   "source": [
    "testing_image =image_gen.flow_from_directory(\"wafer/dataset/consistency\" , \n",
    "                                              target_size=(100,100),batch_size=15,\n",
    "                                              color_mode='grayscale')"
   ]
  },
  {
   "cell_type": "code",
   "execution_count": 25,
   "id": "2091e6c4",
   "metadata": {
    "execution": {
     "iopub.execute_input": "2023-02-04T19:48:40.133294Z",
     "iopub.status.busy": "2023-02-04T19:48:40.131840Z",
     "iopub.status.idle": "2023-02-04T22:01:47.273144Z",
     "shell.execute_reply": "2023-02-04T22:01:47.271449Z"
    },
    "papermill": {
     "duration": 7987.151503,
     "end_time": "2023-02-04T22:01:47.276755",
     "exception": false,
     "start_time": "2023-02-04T19:48:40.125252",
     "status": "completed"
    },
    "tags": []
   },
   "outputs": [
    {
     "name": "stdout",
     "output_type": "stream",
     "text": [
      "Epoch 1/50\n",
      "824/824 [==============================] - 16s 20ms/step - batch: 411.5000 - size: 15.0000 - loss: 0.0426 - acc: 0.9864 - val_loss: 0.8011 - val_acc: 0.7505\n",
      "Epoch 2/50\n",
      "824/824 [==============================] - 18s 22ms/step - batch: 411.5000 - size: 15.0000 - loss: 0.0480 - acc: 0.9848 - val_loss: 0.4067 - val_acc: 0.8740\n",
      "Epoch 3/50\n",
      "824/824 [==============================] - 18s 22ms/step - batch: 411.5000 - size: 15.0000 - loss: 0.0417 - acc: 0.9858 - val_loss: 0.4616 - val_acc: 0.8597\n",
      "Epoch 4/50\n",
      "824/824 [==============================] - 19s 24ms/step - batch: 411.5000 - size: 15.0000 - loss: 0.0482 - acc: 0.9850 - val_loss: 1.1297 - val_acc: 0.6804\n",
      "Epoch 5/50\n",
      "824/824 [==============================] - 22s 27ms/step - batch: 411.5000 - size: 15.0000 - loss: 0.0480 - acc: 0.9852 - val_loss: 0.8479 - val_acc: 0.7272\n",
      "Epoch 6/50\n",
      "824/824 [==============================] - 22s 27ms/step - batch: 411.5000 - size: 15.0000 - loss: 0.0527 - acc: 0.9833 - val_loss: 0.5020 - val_acc: 0.8416\n",
      "Epoch 7/50\n",
      "824/824 [==============================] - 22s 27ms/step - batch: 411.5000 - size: 15.0000 - loss: 0.0442 - acc: 0.9857 - val_loss: 0.8807 - val_acc: 0.7450\n",
      "Epoch 8/50\n",
      "824/824 [==============================] - 22s 27ms/step - batch: 411.5000 - size: 15.0000 - loss: 0.0429 - acc: 0.9867 - val_loss: 0.9256 - val_acc: 0.7641\n",
      "Epoch 9/50\n",
      "824/824 [==============================] - 22s 27ms/step - batch: 411.5000 - size: 15.0000 - loss: 0.0444 - acc: 0.9860 - val_loss: 0.4976 - val_acc: 0.8288\n",
      "Epoch 10/50\n",
      "824/824 [==============================] - 22s 27ms/step - batch: 411.5000 - size: 15.0000 - loss: 0.0446 - acc: 0.9862 - val_loss: 0.4149 - val_acc: 0.8556\n",
      "Epoch 11/50\n",
      "824/824 [==============================] - 22s 27ms/step - batch: 411.5000 - size: 15.0000 - loss: 0.0451 - acc: 0.9840 - val_loss: 0.4005 - val_acc: 0.8683\n",
      "Epoch 12/50\n",
      "824/824 [==============================] - 22s 27ms/step - batch: 411.5000 - size: 15.0000 - loss: 0.0399 - acc: 0.9870 - val_loss: 0.8844 - val_acc: 0.7196\n",
      "Epoch 13/50\n",
      "824/824 [==============================] - 22s 27ms/step - batch: 411.5000 - size: 15.0000 - loss: 0.0464 - acc: 0.9865 - val_loss: 1.2540 - val_acc: 0.6550\n",
      "Epoch 14/50\n",
      "824/824 [==============================] - 22s 27ms/step - batch: 411.5000 - size: 15.0000 - loss: 0.0398 - acc: 0.9861 - val_loss: 0.7486 - val_acc: 0.7733\n",
      "Epoch 15/50\n",
      "824/824 [==============================] - 22s 27ms/step - batch: 411.5000 - size: 15.0000 - loss: 0.0471 - acc: 0.9861 - val_loss: 0.6145 - val_acc: 0.7575\n",
      "Epoch 16/50\n",
      "824/824 [==============================] - 22s 26ms/step - batch: 411.5000 - size: 15.0000 - loss: 0.0393 - acc: 0.9861 - val_loss: 0.7382 - val_acc: 0.7606\n",
      "Epoch 17/50\n",
      "824/824 [==============================] - 20s 24ms/step - batch: 411.5000 - size: 15.0000 - loss: 0.0404 - acc: 0.9871 - val_loss: 0.8989 - val_acc: 0.7481\n",
      "Epoch 18/50\n",
      "824/824 [==============================] - 20s 24ms/step - batch: 411.5000 - size: 15.0000 - loss: 0.0383 - acc: 0.9875 - val_loss: 0.8807 - val_acc: 0.7373\n",
      "Epoch 19/50\n",
      "824/824 [==============================] - 20s 24ms/step - batch: 411.5000 - size: 15.0000 - loss: 0.0431 - acc: 0.9871 - val_loss: 0.3262 - val_acc: 0.8754\n",
      "Epoch 20/50\n",
      "824/824 [==============================] - 20s 25ms/step - batch: 411.5000 - size: 15.0000 - loss: 0.0373 - acc: 0.9871 - val_loss: 1.4141 - val_acc: 0.6415\n",
      "Epoch 21/50\n",
      "824/824 [==============================] - 21s 25ms/step - batch: 411.5000 - size: 15.0000 - loss: 0.0334 - acc: 0.9883 - val_loss: 0.3950 - val_acc: 0.8663\n",
      "Epoch 22/50\n",
      "824/824 [==============================] - 20s 24ms/step - batch: 411.5000 - size: 15.0000 - loss: 0.0320 - acc: 0.9892 - val_loss: 0.5034 - val_acc: 0.8127\n",
      "Epoch 23/50\n",
      "824/824 [==============================] - 15s 18ms/step - batch: 411.5000 - size: 15.0000 - loss: 0.0392 - acc: 0.9865 - val_loss: 0.4847 - val_acc: 0.8434\n",
      "Epoch 24/50\n",
      "824/824 [==============================] - 15s 19ms/step - batch: 411.5000 - size: 15.0000 - loss: 0.0444 - acc: 0.9862 - val_loss: 0.6222 - val_acc: 0.7930\n",
      "Epoch 25/50\n",
      "824/824 [==============================] - 15s 18ms/step - batch: 411.5000 - size: 15.0000 - loss: 0.0411 - acc: 0.9866 - val_loss: 0.7585 - val_acc: 0.7661\n",
      "Epoch 26/50\n",
      "824/824 [==============================] - 15s 19ms/step - batch: 411.5000 - size: 15.0000 - loss: 0.0353 - acc: 0.9884 - val_loss: 0.7238 - val_acc: 0.7300\n",
      "Epoch 27/50\n",
      "824/824 [==============================] - 15s 18ms/step - batch: 411.5000 - size: 15.0000 - loss: 0.0357 - acc: 0.9883 - val_loss: 0.5122 - val_acc: 0.8196\n",
      "Epoch 28/50\n",
      "824/824 [==============================] - 15s 18ms/step - batch: 411.5000 - size: 15.0000 - loss: 0.0355 - acc: 0.9888 - val_loss: 0.2944 - val_acc: 0.8956\n",
      "Epoch 29/50\n",
      "824/824 [==============================] - 15s 18ms/step - batch: 411.5000 - size: 15.0000 - loss: 0.0403 - acc: 0.9872 - val_loss: 1.3337 - val_acc: 0.6215\n",
      "Epoch 30/50\n",
      "824/824 [==============================] - 15s 18ms/step - batch: 411.5000 - size: 15.0000 - loss: 0.0406 - acc: 0.9876 - val_loss: 0.4962 - val_acc: 0.8326\n",
      "Epoch 31/50\n",
      "824/824 [==============================] - 15s 18ms/step - batch: 411.5000 - size: 15.0000 - loss: 0.0352 - acc: 0.9883 - val_loss: 1.6542 - val_acc: 0.6598\n",
      "Epoch 32/50\n",
      "824/824 [==============================] - 15s 18ms/step - batch: 411.5000 - size: 15.0000 - loss: 0.0364 - acc: 0.9883 - val_loss: 0.3137 - val_acc: 0.8902\n",
      "Epoch 33/50\n",
      "824/824 [==============================] - 15s 19ms/step - batch: 411.5000 - size: 15.0000 - loss: 0.0355 - acc: 0.9884 - val_loss: 0.5466 - val_acc: 0.8348\n",
      "Epoch 34/50\n",
      "824/824 [==============================] - 15s 19ms/step - batch: 411.5000 - size: 15.0000 - loss: 0.0375 - acc: 0.9877 - val_loss: 0.2304 - val_acc: 0.9246\n",
      "Epoch 35/50\n",
      "824/824 [==============================] - 15s 19ms/step - batch: 411.5000 - size: 15.0000 - loss: 0.0343 - acc: 0.9895 - val_loss: 0.7181 - val_acc: 0.7567\n",
      "Epoch 36/50\n",
      "824/824 [==============================] - 15s 18ms/step - batch: 411.5000 - size: 15.0000 - loss: 0.0396 - acc: 0.9875 - val_loss: 2.2336 - val_acc: 0.5989\n",
      "Epoch 37/50\n",
      "824/824 [==============================] - 15s 18ms/step - batch: 411.5000 - size: 15.0000 - loss: 0.0381 - acc: 0.9870 - val_loss: 0.3917 - val_acc: 0.9031\n",
      "Epoch 38/50\n",
      "824/824 [==============================] - 15s 18ms/step - batch: 411.5000 - size: 15.0000 - loss: 0.0354 - acc: 0.9883 - val_loss: 1.3536 - val_acc: 0.7147\n",
      "Epoch 39/50\n",
      "824/824 [==============================] - 15s 18ms/step - batch: 411.5000 - size: 15.0000 - loss: 0.0334 - acc: 0.9883 - val_loss: 0.2658 - val_acc: 0.9103\n",
      "Epoch 40/50\n",
      "824/824 [==============================] - 15s 18ms/step - batch: 411.5000 - size: 15.0000 - loss: 0.0392 - acc: 0.9867 - val_loss: 0.4859 - val_acc: 0.8466\n",
      "Epoch 41/50\n",
      "824/824 [==============================] - 15s 18ms/step - batch: 411.5000 - size: 15.0000 - loss: 0.0377 - acc: 0.9880 - val_loss: 2.2492 - val_acc: 0.6328\n",
      "Epoch 42/50\n",
      "824/824 [==============================] - 16s 19ms/step - batch: 411.5000 - size: 15.0000 - loss: 0.0355 - acc: 0.9888 - val_loss: 0.2584 - val_acc: 0.9165\n",
      "Epoch 43/50\n",
      "824/824 [==============================] - 15s 18ms/step - batch: 411.5000 - size: 15.0000 - loss: 0.0342 - acc: 0.9883 - val_loss: 0.4093 - val_acc: 0.8764\n",
      "Epoch 44/50\n",
      "824/824 [==============================] - 17s 21ms/step - batch: 411.5000 - size: 15.0000 - loss: 0.0344 - acc: 0.9888 - val_loss: 0.7587 - val_acc: 0.7862\n",
      "Epoch 45/50\n",
      "824/824 [==============================] - 17s 21ms/step - batch: 411.5000 - size: 15.0000 - loss: 0.0336 - acc: 0.9895 - val_loss: 0.4542 - val_acc: 0.8387\n",
      "Epoch 46/50\n",
      "824/824 [==============================] - 18s 22ms/step - batch: 411.5000 - size: 15.0000 - loss: 0.0317 - acc: 0.9890 - val_loss: 0.3395 - val_acc: 0.8680\n",
      "Epoch 47/50\n",
      "824/824 [==============================] - 16s 19ms/step - batch: 411.5000 - size: 15.0000 - loss: 0.0326 - acc: 0.9894 - val_loss: 0.5375 - val_acc: 0.8337\n",
      "Epoch 48/50\n",
      "824/824 [==============================] - 15s 19ms/step - batch: 411.5000 - size: 15.0000 - loss: 0.0312 - acc: 0.9896 - val_loss: 0.2775 - val_acc: 0.9140\n",
      "Epoch 49/50\n",
      "824/824 [==============================] - 15s 18ms/step - batch: 411.5000 - size: 15.0000 - loss: 0.0314 - acc: 0.9907 - val_loss: 0.9947 - val_acc: 0.7102\n",
      "Epoch 50/50\n",
      "824/824 [==============================] - 15s 19ms/step - batch: 411.5000 - size: 15.0000 - loss: 0.0292 - acc: 0.9900 - val_loss: 0.4066 - val_acc: 0.8841\n"
     ]
    }
   ],
   "source": [
    "steps_per_epoch = 26370//32\n",
    "validation_steps =26370//32\n",
    "\n",
    "\n",
    "from tensorflow.keras.callbacks import ModelCheckpoint\n",
    "\n",
    "filename = 'model/checkpoint-epoch-{epoch:02d}-val_acc-{val_acc:.4f}.h5'\n",
    "model_checkpoint = ModelCheckpoint(filename, save_best_only=True, monitor='val_acc', mode='max',verbose=0)\n",
    "\n",
    "history = model.fit_generator(generator=training_image,\n",
    "                              steps_per_epoch=steps_per_epoch,\n",
    "                              epochs=50,\n",
    "                              validation_data=testing_image,\n",
    "                              validation_steps=validation_steps,\n",
    "                              callbacks=[model_checkpoint])\n",
    "\n"
   ]
  },
  {
   "cell_type": "code",
   "execution_count": 26,
   "id": "14f81597",
   "metadata": {
    "execution": {
     "iopub.execute_input": "2023-02-04T22:01:52.315318Z",
     "iopub.status.busy": "2023-02-04T22:01:52.314952Z",
     "iopub.status.idle": "2023-02-04T22:01:52.319557Z",
     "shell.execute_reply": "2023-02-04T22:01:52.318596Z"
    },
    "papermill": {
     "duration": 2.412649,
     "end_time": "2023-02-04T22:01:52.321636",
     "exception": false,
     "start_time": "2023-02-04T22:01:49.908987",
     "status": "completed"
    },
    "tags": []
   },
   "outputs": [],
   "source": [
    "# model.save(\"AdamW.h5\")\n",
    "pd.options.display.float_format = '{:7f}'.format"
   ]
  },
  {
   "cell_type": "code",
   "execution_count": 27,
   "id": "c54b2543",
   "metadata": {
    "execution": {
     "iopub.execute_input": "2023-02-04T22:01:57.197383Z",
     "iopub.status.busy": "2023-02-04T22:01:57.196998Z",
     "iopub.status.idle": "2023-02-04T22:01:57.206172Z",
     "shell.execute_reply": "2023-02-04T22:01:57.205232Z"
    },
    "papermill": {
     "duration": 2.431389,
     "end_time": "2023-02-04T22:01:57.208310",
     "exception": false,
     "start_time": "2023-02-04T22:01:54.776921",
     "status": "completed"
    },
    "tags": []
   },
   "outputs": [],
   "source": [
    "# def processing(path):\n",
    "#     img = cv2.imread(path)\n",
    "#     print(img.shape)\n",
    "#     plt.imshow(img)\n",
    "#     test1_proc = image.load_img(path , target_size=(100,100))\n",
    "#     test1_proc_1 = image.img_to_array(test1_proc)\n",
    "#     t1 = np.expand_dims(test1_proc ,axis=0)\n",
    "#     t1 = t1/255\n",
    "#     pred_classes = model.predict(t1)\n",
    "#     pred = np.argmax(pred_classes ,axis=1)\n",
    "\n",
    "#     plt.subplot(121)\n",
    "#     pic = Image.open(path) \n",
    "#     plt.xlabel(\"Original Image\")\n",
    "#     plt.imshow(pic)\n",
    "    \n",
    "    \n",
    "#     plt.subplot(122)\n",
    "    \n",
    "#     s1 = pd.Series(pred_classes.ravel() , index = training_image.class_indices.keys())\n",
    "#     s1.plot(kind = 'barh' ,figsize = (10,5),color='green')\n",
    "#     plt.xlabel(\"prediction\")\n",
    "#     plt.tight_layout()\n",
    "#     plt.show()\n",
    "\n",
    "#     for i in training_image.class_indices:\n",
    "#         if pred == training_image.class_indices[i]:\n",
    "#             print(\"prediction made by model is :\" ,i)\n",
    "            \n",
    "            \n",
    "    \n",
    "    \n",
    "#     print(s1)\n",
    "#     print(type(s1))\n"
   ]
  },
  {
   "cell_type": "code",
   "execution_count": 28,
   "id": "10402824",
   "metadata": {},
   "outputs": [],
   "source": [
    "def processing(path):\n",
    "    img = cv2.imread(path, cv2.IMREAD_GRAYSCALE)\n",
    "    img = np.expand_dims(img, axis=-1)  # 이미지 데이터에 채널 차원 추가\n",
    "\n",
    "    # plt.imshow(img, cmap='gray')\n",
    "\n",
    "    test1_proc = image.load_img(path, color_mode='grayscale', target_size=(100, 100))\n",
    "    test1_proc_1 = image.img_to_array(test1_proc)\n",
    "    t1 = np.expand_dims(test1_proc_1, axis=0)\n",
    "    t1 = t1 / 255\n",
    "    pred_classes = model.predict(t1)\n",
    "    pred = np.argmax(pred_classes, axis=1)\n",
    "\n",
    "    original_label = os.path.basename(os.path.dirname(path))\n",
    "    \n",
    "    # plt.subplot(121)\n",
    "    # pic = Image.open(path)\n",
    "    # plt.xlabel(\"Original Image : \" + original_label)\n",
    "    # # plt.imshow(pic, cmap='jet')\n",
    "    # color='deepskyblue'\n",
    "    # plt.subplot(122)\n",
    "    # s1 = pd.Series(pred_classes.ravel(), index=training_image.class_indices.keys())\n",
    "    # s1.plot(kind='barh', figsize=(10, 5), color=color)\n",
    "    # a1=s1.plot(kind='barh', figsize=(10, 5), color=color)\n",
    "\n",
    "    # for p in a1.patches:\n",
    "    #     left, bottom, width, height = p.get_bbox().bounds\n",
    "    #     percentage = width * 100\n",
    "    #     if percentage > 0.2:  # 그래프 수치가 0보다 클 때만 표시\n",
    "    #         a1.annotate(\"%.1f\" % percentage, xy=(left + width / 2, bottom + height / 2), ha='center', va='center')\n",
    "\n",
    "\n",
    "    # plt.xlabel(\"prediction\")\n",
    "    # plt.tight_layout()\n",
    "    # plt.show()\n",
    "\n",
    "    predicted_label = list(training_image.class_indices.keys())[pred[0]]\n",
    "\n",
    "\n",
    "\n",
    "    # for i in training_image.class_indices:\n",
    "    #     if pred == training_image.class_indices[i]:\n",
    "    #         print(\"prediction made by model is:\", i)\n",
    "\n",
    "    # print(s1)\n",
    "    # print(type(s1))\n",
    "    \n",
    "    return predicted_label\n"
   ]
  },
  {
   "cell_type": "code",
   "execution_count": 29,
   "id": "50b659c9",
   "metadata": {
    "execution": {
     "iopub.execute_input": "2023-02-04T22:02:02.211050Z",
     "iopub.status.busy": "2023-02-04T22:02:02.210686Z",
     "iopub.status.idle": "2023-02-04T22:02:02.798388Z",
     "shell.execute_reply": "2023-02-04T22:02:02.797487Z"
    },
    "papermill": {
     "duration": 2.96385,
     "end_time": "2023-02-04T22:02:02.803752",
     "exception": false,
     "start_time": "2023-02-04T22:01:59.839902",
     "status": "completed"
    },
    "tags": []
   },
   "outputs": [
    {
     "data": {
      "text/plain": [
       "'unprocessed'"
      ]
     },
     "execution_count": 29,
     "metadata": {},
     "output_type": "execute_result"
    }
   ],
   "source": [
    "processing(\"wafer/dataset/consistency/unprocessed/non_through_220.bmp\")"
   ]
  },
  {
   "cell_type": "code",
   "execution_count": null,
   "id": "1b236024",
   "metadata": {},
   "outputs": [],
   "source": []
  },
  {
   "cell_type": "code",
   "execution_count": 30,
   "id": "ebd68b2f",
   "metadata": {},
   "outputs": [],
   "source": [
    "# processing(\"wafer/dataset/consistency/foreign_material_floating/2_15287.bmp\")"
   ]
  },
  {
   "cell_type": "code",
   "execution_count": 31,
   "id": "1bb98b9f",
   "metadata": {
    "execution": {
     "iopub.execute_input": "2023-02-04T22:02:07.515825Z",
     "iopub.status.busy": "2023-02-04T22:02:07.515473Z",
     "iopub.status.idle": "2023-02-04T22:02:07.896579Z",
     "shell.execute_reply": "2023-02-04T22:02:07.895642Z"
    },
    "papermill": {
     "duration": 2.740386,
     "end_time": "2023-02-04T22:02:07.900899",
     "exception": false,
     "start_time": "2023-02-04T22:02:05.160513",
     "status": "completed"
    },
    "tags": []
   },
   "outputs": [],
   "source": [
    "# processing(\"wafer/dataset/consistency/abnormal_form_shape_error/abnormal_form_shape_error_2037.bmp\")\n"
   ]
  },
  {
   "cell_type": "code",
   "execution_count": 32,
   "id": "bde2df0d",
   "metadata": {},
   "outputs": [],
   "source": [
    "# processing(\"wafer/dataset/consistency/abnormal_form_hump/abnormal_form_hump_3518.bmp\")"
   ]
  },
  {
   "cell_type": "code",
   "execution_count": 33,
   "id": "b873b267",
   "metadata": {
    "execution": {
     "iopub.execute_input": "2023-02-04T22:02:23.959732Z",
     "iopub.status.busy": "2023-02-04T22:02:23.959361Z",
     "iopub.status.idle": "2023-02-04T22:02:24.345135Z",
     "shell.execute_reply": "2023-02-04T22:02:24.344232Z"
    },
    "papermill": {
     "duration": 2.847619,
     "end_time": "2023-02-04T22:02:24.347171",
     "exception": false,
     "start_time": "2023-02-04T22:02:21.499552",
     "status": "completed"
    },
    "tags": []
   },
   "outputs": [
    {
     "data": {
      "image/png": "[encoded data removed]",
      "text/plain": [
       "<Figure size 640x480 with 1 Axes>"
      ]
     },
     "metadata": {},
     "output_type": "display_data"
    },
    {
     "data": {
      "image/png": "[encoded data removed]",
      "text/plain": [
       "<Figure size 640x480 with 1 Axes>"
      ]
     },
     "metadata": {},
     "output_type": "display_data"
    }
   ],
   "source": [
    "plt.plot(history.history['acc'])\n",
    "plt.plot(history.history['val_acc'])\n",
    "plt.title('Model acc')\n",
    "plt.ylabel('Accuracy')\n",
    "plt.xlabel('Epoch')\n",
    "plt.legend(['Train', 'Test'], loc='upper left')\n",
    "plt.show()\n",
    "\n",
    "plt.plot(history.history['loss'])\n",
    "plt.plot(history.history['val_loss'])\n",
    "plt.title('Model loss')\n",
    "plt.ylabel('Loss')\n",
    "plt.xlabel('Epoch')\n",
    "plt.legend(['Train', 'Test'], loc='upper left')\n",
    "plt.show()"
   ]
  },
  {
   "cell_type": "code",
   "execution_count": 34,
   "id": "32831d63",
   "metadata": {},
   "outputs": [
    {
     "name": "stdout",
     "output_type": "stream",
     "text": [
      "wafercopy/dataset/consistency\\unprocessed\n",
      "원래 레이블과 일치하는 이미지 수: 100/100\n",
      "일치 비율: 100.00%\n"
     ]
    }
   ],
   "source": [
    "#원래 코드\n",
    "\n",
    "import os\n",
    "import random\n",
    "\n",
    "# 디렉토리에서 무작위로 폴더 선택\n",
    "validation_data_dir = 'wafercopy/dataset/consistency'  # 검증 데이터 폴더의 경로로 변경\n",
    "selected_folder = random.choice(os.listdir(validation_data_dir))\n",
    "folder_path = os.path.join(validation_data_dir, selected_folder)\n",
    "print(folder_path)\n",
    "\n",
    "# 폴더에서 모든 이미지 파일 가져오기\n",
    "image_files = [f for f in os.listdir(folder_path) if f.endswith(\".bmp\")]\n",
    "\n",
    "# 100개의 이미지를 무작위로 선택\n",
    "selected_images = random.sample(image_files, 100)\n",
    "\n",
    "# 선택한 이미지들을 처리하고 예측하기\n",
    "correct_predictions = 0\n",
    "\n",
    "for image_file in selected_images:\n",
    "    image_path = os.path.join(folder_path, image_file)\n",
    "    \n",
    "    # 예측 실행\n",
    "    processing(image_path)  # 이미지 처리 및 예측\n",
    "\n",
    "    # 원래 레이블과 비교\n",
    "    original_label = os.path.basename(selected_folder)\n",
    "    predicted_label =  processing(image_path)\n",
    "    \n",
    "    if original_label == predicted_label:\n",
    "        correct_predictions += 1\n",
    "\n",
    "# 일치 비율 계산\n",
    "total_images = len(selected_images)\n",
    "accuracy = (correct_predictions / total_images) * 100\n",
    "print(f\"원래 레이블과 일치하는 이미지 수: {correct_predictions}/{total_images}\")\n",
    "print(f\"일치 비율: {accuracy:.2f}%\")"
   ]
  },
  {
   "cell_type": "code",
   "execution_count": 35,
   "id": "9207c28d",
   "metadata": {},
   "outputs": [],
   "source": [
    "# import os\n",
    "# import random\n",
    "\n",
    "# # 디렉토리에서 무작위로 폴더 선택\n",
    "# validation_data_dir = 'wafercopy/dataset/consistency'  # 검증 데이터 폴더의 경로로 변경\n",
    "# selected_folder = random.choice(os.listdir(validation_data_dir))\n",
    "# folder_path = os.path.join(validation_data_dir, selected_folder)\n",
    "# print(folder_path)\n",
    "\n",
    "\n",
    "# validation_data_dir = 'wafercopy/dataset/consistency'  # 검증 데이터 폴더의 경로로 변경\n",
    "# folders = os.listdir(validation_data_dir)\n",
    "\n",
    "# for selected_folder in folders:\n",
    "#     folder_path = os.path.join(validation_data_dir, selected_folder)\n",
    "#     print(folder_path)\n",
    "\n",
    "# # 폴더에서 모든 이미지 파일 가져오기\n",
    "# image_files = [f for f in os.listdir(folder_path) if f.endswith(\".bmp\")]\n",
    "\n",
    "# # 100개의 이미지를 무작위로 선택\n",
    "# selected_images = random.sample(image_files, 100)\n",
    "\n",
    "# # 선택한 이미지들을 처리하고 예측하기\n",
    "# correct_predictions = 0\n",
    "\n",
    "\n",
    "# for image_file in selected_images:\n",
    "#     image_path = os.path.join(folder_path, image_file)\n",
    "    \n",
    "#     # 예측 실행\n",
    "#     processing(image_path)  # 이미지 처리 및 예측\n",
    "    \n",
    "#     # 원래 레이블과 비교\n",
    "#     original_label = os.path.basename(selected_folder)\n",
    "#     predicted_label =  processing(image_path)\n",
    "    \n",
    "#     if original_label == predicted_label:\n",
    "#         correct_predictions += 1\n",
    "\n",
    "# # 일치 비율 계산\n",
    "# total_images = len(selected_images)\n",
    "# accuracy = (correct_predictions / total_images) * 100\n",
    "# print(f\"원래 레이블과 일치하는 이미지 수: {correct_predictions}/{total_images}\")\n",
    "# print(f\"일치 비율: {accuracy:.2f}%\")\n"
   ]
  }
 ],
 "metadata": {
  "kernelspec": {
   "display_name": "test3.7",
   "language": "python",
   "name": "python3"
  },
  "language_info": {
   "codemirror_mode": {
    "name": "ipython",
    "version": 3
   },
   "file_extension": ".py",
   "mimetype": "text/x-python",
   "name": "python",
   "nbconvert_exporter": "python",
   "pygments_lexer": "ipython3",
   "version": "3.7.16"
  },
  "papermill": {
   "default_parameters": {},
   "duration": 8082.118901,
   "end_time": "2023-02-04T22:02:44.730917",
   "environment_variables": {},
   "exception": null,
   "input_path": "__notebook__.ipynb",
   "output_path": "__notebook__.ipynb",
   "parameters": {},
   "start_time": "2023-02-04T19:48:02.612016",
   "version": "2.3.4"
  },
  "vscode": {
   "interpreter": {
    "hash": "0fb79274e6fc70a7fbc889e06b9471ea0b5b2422b84ed2fccb81878f333629a8"
   }
  }
 },
 "nbformat": 4,
 "nbformat_minor": 5
}
